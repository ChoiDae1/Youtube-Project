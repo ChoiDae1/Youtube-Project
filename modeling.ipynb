{
  "nbformat": 4,
  "nbformat_minor": 0,
  "metadata": {
    "colab": {
      "name": "modeling_찐.ipynb",
      "provenance": [],
      "collapsed_sections": [],
      "include_colab_link": true
    },
    "kernelspec": {
      "name": "python3",
      "display_name": "Python 3"
    },
    "language_info": {
      "name": "python"
    },
    "accelerator": "GPU",
    "gpuClass": "standard"
  },
  "cells": [
    {
      "cell_type": "markdown",
      "metadata": {
        "id": "view-in-github",
        "colab_type": "text"
      },
      "source": [
        "<a href=\"https://colab.research.google.com/github/ChoiDae1/Youtube_Project/blob/main/modeling.ipynb\" target=\"_parent\"><img src=\"https://colab.research.google.com/assets/colab-badge.svg\" alt=\"Open In Colab\"/></a>"
      ]
    },
    {
      "cell_type": "markdown",
      "source": [
        "# 데이터 불러오기"
      ],
      "metadata": {
        "id": "WOeEq19YCr3Q"
      }
    },
    {
      "cell_type": "code",
      "execution_count": null,
      "metadata": {
        "colab": {
          "base_uri": "https://localhost:8080/"
        },
        "id": "l3HES99o6I2c",
        "outputId": "922a4fe9-943b-44f8-b54e-f7994ca3a54c"
      },
      "outputs": [
        {
          "output_type": "stream",
          "name": "stdout",
          "text": [
            "Mounted at /content/drive\n"
          ]
        }
      ],
      "source": [
        "from google.colab import drive\n",
        "drive.mount('/content/drive')"
      ]
    },
    {
      "cell_type": "code",
      "source": [
        "!pip install git+https://github.com/SKT-AI/KoBART#egg=kobart"
      ],
      "metadata": {
        "id": "HkxpxMsw7PXM"
      },
      "execution_count": null,
      "outputs": []
    },
    {
      "cell_type": "code",
      "source": [
        "!pip install transformers"
      ],
      "metadata": {
        "id": "Pr4yf0Eh6oB-"
      },
      "execution_count": null,
      "outputs": []
    },
    {
      "cell_type": "code",
      "source": [
        "import pandas as pd\n",
        "import numpy as np\n",
        "import os \n",
        "\n",
        "import torch\n",
        "import torch.nn as nn\n",
        "import torch.optim as optim\n",
        "import torch.nn.functional as F\n",
        "from torch.utils.data import Dataset, DataLoader\n",
        "\n",
        "import transformers\n",
        "from transformers import AdamW\n",
        "\n",
        "from tqdm import tqdm"
      ],
      "metadata": {
        "id": "GQ_KDwpi6QBf"
      },
      "execution_count": null,
      "outputs": []
    },
    {
      "cell_type": "code",
      "source": [
        "data = pd.read_csv(\"/content/drive/MyDrive/유튜브 썸네일 크롤링/전처리_data(이모지 그대로).csv\",index_col=0)\n",
        "#data.drop(['channel_name','title','date','thumbnail','videoId','URL'],axis=1,inplace=True)"
      ],
      "metadata": {
        "id": "ZFsiiPid8Xws"
      },
      "execution_count": null,
      "outputs": []
    },
    {
      "cell_type": "code",
      "source": [
        "data.shape"
      ],
      "metadata": {
        "colab": {
          "base_uri": "https://localhost:8080/"
        },
        "id": "_jKhFnzLcUf_",
        "outputId": "70bc3417-4355-4a4e-dc5b-bb8a6388644a"
      },
      "execution_count": null,
      "outputs": [
        {
          "output_type": "execute_result",
          "data": {
            "text/plain": [
              "(54454, 16)"
            ]
          },
          "metadata": {},
          "execution_count": 6
        }
      ]
    },
    {
      "cell_type": "code",
      "source": [
        "data.columns"
      ],
      "metadata": {
        "colab": {
          "base_uri": "https://localhost:8080/"
        },
        "id": "lXWx3KkvcaB3",
        "outputId": "7baf1ed6-7772-4ecf-b2ad-0d141348517b"
      },
      "execution_count": null,
      "outputs": [
        {
          "output_type": "execute_result",
          "data": {
            "text/plain": [
              "Index(['channel_name', 'title', 'date', 'thumbnail', 'videoId', 'URL',\n",
              "       'viewCount', 'likeCount', 'commentCount', 'subscriber', 'category',\n",
              "       'date_diff', 'title_symbol', 'noun', 'preprocessed_title', 'views_bin'],\n",
              "      dtype='object')"
            ]
          },
          "metadata": {},
          "execution_count": 7
        }
      ]
    },
    {
      "cell_type": "code",
      "source": [
        "data.head(2)"
      ],
      "metadata": {
        "colab": {
          "base_uri": "https://localhost:8080/",
          "height": 462
        },
        "id": "v1YMvcrUcj3Q",
        "outputId": "fda24c80-1177-4658-bde3-9a6048f40d53"
      },
      "execution_count": null,
      "outputs": [
        {
          "output_type": "execute_result",
          "data": {
            "text/plain": [
              "  channel_name                                              title        date  \\\n",
              "0       피지컬갤러리  전직 UDT. 특수부대 학원에 가다! (숨참기 8분 30초 ㄷㄷ...?) | 달려라...  2019-11-23   \n",
              "1       피지컬갤러리                             110만 유튜버 해외여행 클라스.. ㄷㄷ  2019-11-04   \n",
              "\n",
              "                                          thumbnail      videoId  \\\n",
              "0  https://i.ytimg.com/vi/tV1Dc-LCZJw/hqdefault.jpg  tV1Dc-LCZJw   \n",
              "1  https://i.ytimg.com/vi/bPCriDPI4Oc/hqdefault.jpg  bPCriDPI4Oc   \n",
              "\n",
              "                                           URL  viewCount  likeCount  \\\n",
              "0  https://www.youtube.com/watch?v=tV1Dc-LCZJw   11610712    62590.0   \n",
              "1  https://www.youtube.com/watch?v=bPCriDPI4Oc    8770917    54094.0   \n",
              "\n",
              "   commentCount  subscriber category date_diff  title_symbol  noun  \\\n",
              "0        5187.0     3070000   스포츠_운동       911             9     7   \n",
              "1        7249.0     3070000   스포츠_운동        93             2     3   \n",
              "\n",
              "                                  preprocessed_title  views_bin  \n",
              "0  전직 udt 특수부대 학원에 가다 ! 숨참기 8분 30초 ㄷㄷ ? 달려라 김계란 e...        700  \n",
              "1                               110만 유튜버 해외여행 클라스 ㄷㄷ        700  "
            ],
            "text/html": [
              "<div>\n",
              "<style scoped>\n",
              "    .dataframe tbody tr th:only-of-type {\n",
              "        vertical-align: middle;\n",
              "    }\n",
              "\n",
              "    .dataframe tbody tr th {\n",
              "        vertical-align: top;\n",
              "    }\n",
              "\n",
              "    .dataframe thead th {\n",
              "        text-align: right;\n",
              "    }\n",
              "</style>\n",
              "<table border=\"1\" class=\"dataframe\">\n",
              "  <thead>\n",
              "    <tr style=\"text-align: right;\">\n",
              "      <th></th>\n",
              "      <th>channel_name</th>\n",
              "      <th>title</th>\n",
              "      <th>date</th>\n",
              "      <th>thumbnail</th>\n",
              "      <th>videoId</th>\n",
              "      <th>URL</th>\n",
              "      <th>viewCount</th>\n",
              "      <th>likeCount</th>\n",
              "      <th>commentCount</th>\n",
              "      <th>subscriber</th>\n",
              "      <th>category</th>\n",
              "      <th>date_diff</th>\n",
              "      <th>title_symbol</th>\n",
              "      <th>noun</th>\n",
              "      <th>preprocessed_title</th>\n",
              "      <th>views_bin</th>\n",
              "    </tr>\n",
              "  </thead>\n",
              "  <tbody>\n",
              "    <tr>\n",
              "      <th>0</th>\n",
              "      <td>피지컬갤러리</td>\n",
              "      <td>전직 UDT. 특수부대 학원에 가다! (숨참기 8분 30초 ㄷㄷ...?) | 달려라...</td>\n",
              "      <td>2019-11-23</td>\n",
              "      <td>https://i.ytimg.com/vi/tV1Dc-LCZJw/hqdefault.jpg</td>\n",
              "      <td>tV1Dc-LCZJw</td>\n",
              "      <td>https://www.youtube.com/watch?v=tV1Dc-LCZJw</td>\n",
              "      <td>11610712</td>\n",
              "      <td>62590.0</td>\n",
              "      <td>5187.0</td>\n",
              "      <td>3070000</td>\n",
              "      <td>스포츠_운동</td>\n",
              "      <td>911</td>\n",
              "      <td>9</td>\n",
              "      <td>7</td>\n",
              "      <td>전직 udt 특수부대 학원에 가다 ! 숨참기 8분 30초 ㄷㄷ ? 달려라 김계란 e...</td>\n",
              "      <td>700</td>\n",
              "    </tr>\n",
              "    <tr>\n",
              "      <th>1</th>\n",
              "      <td>피지컬갤러리</td>\n",
              "      <td>110만 유튜버 해외여행 클라스.. ㄷㄷ</td>\n",
              "      <td>2019-11-04</td>\n",
              "      <td>https://i.ytimg.com/vi/bPCriDPI4Oc/hqdefault.jpg</td>\n",
              "      <td>bPCriDPI4Oc</td>\n",
              "      <td>https://www.youtube.com/watch?v=bPCriDPI4Oc</td>\n",
              "      <td>8770917</td>\n",
              "      <td>54094.0</td>\n",
              "      <td>7249.0</td>\n",
              "      <td>3070000</td>\n",
              "      <td>스포츠_운동</td>\n",
              "      <td>93</td>\n",
              "      <td>2</td>\n",
              "      <td>3</td>\n",
              "      <td>110만 유튜버 해외여행 클라스 ㄷㄷ</td>\n",
              "      <td>700</td>\n",
              "    </tr>\n",
              "  </tbody>\n",
              "</table>\n",
              "</div>"
            ]
          },
          "metadata": {},
          "execution_count": 8
        }
      ]
    },
    {
      "cell_type": "code",
      "source": [
        "use_data = data[['preprocessed_title','views_bin', 'subscriber', 'date_diff', 'category']] #모델 훈련에 사용할 애들만 추출\n",
        "use_data = use_data.reset_index()"
      ],
      "metadata": {
        "id": "zYlPwNDACC78"
      },
      "execution_count": null,
      "outputs": []
    },
    {
      "cell_type": "code",
      "source": [
        "#결측치 확인\n",
        "use_data.isnull().sum()"
      ],
      "metadata": {
        "colab": {
          "base_uri": "https://localhost:8080/"
        },
        "id": "oZca1p2kdK-Q",
        "outputId": "f6b8ad8c-8e83-45dd-f1c7-a2a26ce9bec4"
      },
      "execution_count": null,
      "outputs": [
        {
          "output_type": "execute_result",
          "data": {
            "text/plain": [
              "index                   0\n",
              "preprocessed_title      0\n",
              "views_bin               0\n",
              "subscriber              0\n",
              "date_diff             157\n",
              "category                0\n",
              "dtype: int64"
            ]
          },
          "metadata": {},
          "execution_count": 162
        }
      ]
    },
    {
      "cell_type": "code",
      "source": [
        "#결측치 제거\n",
        "use_data = use_data.dropna(axis=0) #date_diff의 결측치 제거\n",
        "use_data = use_data.reset_index()\n",
        "use_data.isnull().sum()"
      ],
      "metadata": {
        "colab": {
          "base_uri": "https://localhost:8080/"
        },
        "id": "hboWuIabudeq",
        "outputId": "4300a7bc-509c-4f6d-d4d7-ec0628e61844"
      },
      "execution_count": null,
      "outputs": [
        {
          "output_type": "execute_result",
          "data": {
            "text/plain": [
              "level_0               0\n",
              "index                 0\n",
              "preprocessed_title    0\n",
              "views_bin             0\n",
              "subscriber            0\n",
              "date_diff             0\n",
              "category              0\n",
              "dtype: int64"
            ]
          },
          "metadata": {},
          "execution_count": 163
        }
      ]
    },
    {
      "cell_type": "code",
      "source": [
        "#date_diff에 int로 변환이 안되는 값 존재함\n",
        "drop_idxs = []\n",
        "for idx, elem in enumerate(list(use_data['date_diff'])):\n",
        "    try:\n",
        "      elem = int(elem)\n",
        "    except:\n",
        "      drop_idxs.append(idx)\n",
        "\n",
        "print(len(drop_idxs))"
      ],
      "metadata": {
        "colab": {
          "base_uri": "https://localhost:8080/"
        },
        "id": "Pb5kfyZdx7bF",
        "outputId": "b1f4f253-98ad-485c-851e-1a9cf0c49fae"
      },
      "execution_count": null,
      "outputs": [
        {
          "output_type": "stream",
          "name": "stdout",
          "text": [
            "63\n"
          ]
        }
      ]
    },
    {
      "cell_type": "code",
      "source": [
        "use_data = use_data.drop(drop_idxs, axis=0)"
      ],
      "metadata": {
        "id": "0fCy6BMnt5ZS"
      },
      "execution_count": null,
      "outputs": []
    },
    {
      "cell_type": "code",
      "source": [
        "use_data.head()"
      ],
      "metadata": {
        "colab": {
          "base_uri": "https://localhost:8080/",
          "height": 206
        },
        "id": "UlLb8OIg0VBk",
        "outputId": "a0289ca7-7900-4e97-eee3-c73ffc6f4153"
      },
      "execution_count": null,
      "outputs": [
        {
          "output_type": "execute_result",
          "data": {
            "text/plain": [
              "   level_0  index                                 preprocessed_title  \\\n",
              "0        0      0  전직 udt 특수부대 학원에 가다 ! 숨참기 8분 30초 ㄷㄷ ? 달려라 김계란 e...   \n",
              "1        1      1                               110만 유튜버 해외여행 클라스 ㄷㄷ   \n",
              "2        2      2                            푸쉬업 이렇게 제발 하지마세요 팔꿈치 박살   \n",
              "3        3      3         북한 잠수함에 권총 한 자루를 들고간 udt 작전 실화 with 유병호 준위   \n",
              "4        4      4           udt vs 프로 파이터들 달려라 김계란 ep2 팀매드 체육관 인턴 1부   \n",
              "\n",
              "   views_bin  subscriber date_diff category  \n",
              "0        700     3070000       911   스포츠_운동  \n",
              "1        700     3070000        93   스포츠_운동  \n",
              "2        700     3070000      1218   스포츠_운동  \n",
              "3        700     3070000       993   스포츠_운동  \n",
              "4        700     3070000       967   스포츠_운동  "
            ],
            "text/html": [
              "\n",
              "  <div id=\"df-42823947-21ab-4762-b283-bf9319853268\">\n",
              "    <div class=\"colab-df-container\">\n",
              "      <div>\n",
              "<style scoped>\n",
              "    .dataframe tbody tr th:only-of-type {\n",
              "        vertical-align: middle;\n",
              "    }\n",
              "\n",
              "    .dataframe tbody tr th {\n",
              "        vertical-align: top;\n",
              "    }\n",
              "\n",
              "    .dataframe thead th {\n",
              "        text-align: right;\n",
              "    }\n",
              "</style>\n",
              "<table border=\"1\" class=\"dataframe\">\n",
              "  <thead>\n",
              "    <tr style=\"text-align: right;\">\n",
              "      <th></th>\n",
              "      <th>level_0</th>\n",
              "      <th>index</th>\n",
              "      <th>preprocessed_title</th>\n",
              "      <th>views_bin</th>\n",
              "      <th>subscriber</th>\n",
              "      <th>date_diff</th>\n",
              "      <th>category</th>\n",
              "    </tr>\n",
              "  </thead>\n",
              "  <tbody>\n",
              "    <tr>\n",
              "      <th>0</th>\n",
              "      <td>0</td>\n",
              "      <td>0</td>\n",
              "      <td>전직 udt 특수부대 학원에 가다 ! 숨참기 8분 30초 ㄷㄷ ? 달려라 김계란 e...</td>\n",
              "      <td>700</td>\n",
              "      <td>3070000</td>\n",
              "      <td>911</td>\n",
              "      <td>스포츠_운동</td>\n",
              "    </tr>\n",
              "    <tr>\n",
              "      <th>1</th>\n",
              "      <td>1</td>\n",
              "      <td>1</td>\n",
              "      <td>110만 유튜버 해외여행 클라스 ㄷㄷ</td>\n",
              "      <td>700</td>\n",
              "      <td>3070000</td>\n",
              "      <td>93</td>\n",
              "      <td>스포츠_운동</td>\n",
              "    </tr>\n",
              "    <tr>\n",
              "      <th>2</th>\n",
              "      <td>2</td>\n",
              "      <td>2</td>\n",
              "      <td>푸쉬업 이렇게 제발 하지마세요 팔꿈치 박살</td>\n",
              "      <td>700</td>\n",
              "      <td>3070000</td>\n",
              "      <td>1218</td>\n",
              "      <td>스포츠_운동</td>\n",
              "    </tr>\n",
              "    <tr>\n",
              "      <th>3</th>\n",
              "      <td>3</td>\n",
              "      <td>3</td>\n",
              "      <td>북한 잠수함에 권총 한 자루를 들고간 udt 작전 실화 with 유병호 준위</td>\n",
              "      <td>700</td>\n",
              "      <td>3070000</td>\n",
              "      <td>993</td>\n",
              "      <td>스포츠_운동</td>\n",
              "    </tr>\n",
              "    <tr>\n",
              "      <th>4</th>\n",
              "      <td>4</td>\n",
              "      <td>4</td>\n",
              "      <td>udt vs 프로 파이터들 달려라 김계란 ep2 팀매드 체육관 인턴 1부</td>\n",
              "      <td>700</td>\n",
              "      <td>3070000</td>\n",
              "      <td>967</td>\n",
              "      <td>스포츠_운동</td>\n",
              "    </tr>\n",
              "  </tbody>\n",
              "</table>\n",
              "</div>\n",
              "      <button class=\"colab-df-convert\" onclick=\"convertToInteractive('df-42823947-21ab-4762-b283-bf9319853268')\"\n",
              "              title=\"Convert this dataframe to an interactive table.\"\n",
              "              style=\"display:none;\">\n",
              "        \n",
              "  <svg xmlns=\"http://www.w3.org/2000/svg\" height=\"24px\"viewBox=\"0 0 24 24\"\n",
              "       width=\"24px\">\n",
              "    <path d=\"M0 0h24v24H0V0z\" fill=\"none\"/>\n",
              "    <path d=\"M18.56 5.44l.94 2.06.94-2.06 2.06-.94-2.06-.94-.94-2.06-.94 2.06-2.06.94zm-11 1L8.5 8.5l.94-2.06 2.06-.94-2.06-.94L8.5 2.5l-.94 2.06-2.06.94zm10 10l.94 2.06.94-2.06 2.06-.94-2.06-.94-.94-2.06-.94 2.06-2.06.94z\"/><path d=\"M17.41 7.96l-1.37-1.37c-.4-.4-.92-.59-1.43-.59-.52 0-1.04.2-1.43.59L10.3 9.45l-7.72 7.72c-.78.78-.78 2.05 0 2.83L4 21.41c.39.39.9.59 1.41.59.51 0 1.02-.2 1.41-.59l7.78-7.78 2.81-2.81c.8-.78.8-2.07 0-2.86zM5.41 20L4 18.59l7.72-7.72 1.47 1.35L5.41 20z\"/>\n",
              "  </svg>\n",
              "      </button>\n",
              "      \n",
              "  <style>\n",
              "    .colab-df-container {\n",
              "      display:flex;\n",
              "      flex-wrap:wrap;\n",
              "      gap: 12px;\n",
              "    }\n",
              "\n",
              "    .colab-df-convert {\n",
              "      background-color: #E8F0FE;\n",
              "      border: none;\n",
              "      border-radius: 50%;\n",
              "      cursor: pointer;\n",
              "      display: none;\n",
              "      fill: #1967D2;\n",
              "      height: 32px;\n",
              "      padding: 0 0 0 0;\n",
              "      width: 32px;\n",
              "    }\n",
              "\n",
              "    .colab-df-convert:hover {\n",
              "      background-color: #E2EBFA;\n",
              "      box-shadow: 0px 1px 2px rgba(60, 64, 67, 0.3), 0px 1px 3px 1px rgba(60, 64, 67, 0.15);\n",
              "      fill: #174EA6;\n",
              "    }\n",
              "\n",
              "    [theme=dark] .colab-df-convert {\n",
              "      background-color: #3B4455;\n",
              "      fill: #D2E3FC;\n",
              "    }\n",
              "\n",
              "    [theme=dark] .colab-df-convert:hover {\n",
              "      background-color: #434B5C;\n",
              "      box-shadow: 0px 1px 3px 1px rgba(0, 0, 0, 0.15);\n",
              "      filter: drop-shadow(0px 1px 2px rgba(0, 0, 0, 0.3));\n",
              "      fill: #FFFFFF;\n",
              "    }\n",
              "  </style>\n",
              "\n",
              "      <script>\n",
              "        const buttonEl =\n",
              "          document.querySelector('#df-42823947-21ab-4762-b283-bf9319853268 button.colab-df-convert');\n",
              "        buttonEl.style.display =\n",
              "          google.colab.kernel.accessAllowed ? 'block' : 'none';\n",
              "\n",
              "        async function convertToInteractive(key) {\n",
              "          const element = document.querySelector('#df-42823947-21ab-4762-b283-bf9319853268');\n",
              "          const dataTable =\n",
              "            await google.colab.kernel.invokeFunction('convertToInteractive',\n",
              "                                                     [key], {});\n",
              "          if (!dataTable) return;\n",
              "\n",
              "          const docLinkHtml = 'Like what you see? Visit the ' +\n",
              "            '<a target=\"_blank\" href=https://colab.research.google.com/notebooks/data_table.ipynb>data table notebook</a>'\n",
              "            + ' to learn more about interactive tables.';\n",
              "          element.innerHTML = '';\n",
              "          dataTable['output_type'] = 'display_data';\n",
              "          await google.colab.output.renderOutput(dataTable, element);\n",
              "          const docLink = document.createElement('div');\n",
              "          docLink.innerHTML = docLinkHtml;\n",
              "          element.appendChild(docLink);\n",
              "        }\n",
              "      </script>\n",
              "    </div>\n",
              "  </div>\n",
              "  "
            ]
          },
          "metadata": {},
          "execution_count": 166
        }
      ]
    },
    {
      "cell_type": "code",
      "source": [
        "from sklearn.preprocessing import LabelEncoder\n",
        "\n",
        "#조회수 구간 -> 범주형 변수로 만들기\n",
        "le = LabelEncoder()\n",
        "result = le.fit_transform(use_data['views_bin'])\n",
        "use_data['views_bin'] = result"
      ],
      "metadata": {
        "id": "dT4rmRBp5mEE"
      },
      "execution_count": null,
      "outputs": []
    },
    {
      "cell_type": "code",
      "source": [
        "data.views_bin.value_counts() #범주형 변수로 변환하기 전 조회수 구간"
      ],
      "metadata": {
        "colab": {
          "base_uri": "https://localhost:8080/"
        },
        "id": "Jj8qobL8dz9P",
        "outputId": "2fcf8fde-3932-416b-82dc-c08ef87bb9c6"
      },
      "execution_count": null,
      "outputs": [
        {
          "output_type": "execute_result",
          "data": {
            "text/plain": [
              "250    11942\n",
              "1      10933\n",
              "30     10793\n",
              "100    10608\n",
              "700    10178\n",
              "Name: views_bin, dtype: int64"
            ]
          },
          "metadata": {},
          "execution_count": 168
        }
      ]
    },
    {
      "cell_type": "code",
      "source": [
        "use_data.views_bin.value_counts() #변환한 후 조회수 구간"
      ],
      "metadata": {
        "colab": {
          "base_uri": "https://localhost:8080/"
        },
        "id": "DxEaxx209eId",
        "outputId": "b2269932-5c1a-4bc8-ba77-0f706c731189"
      },
      "execution_count": null,
      "outputs": [
        {
          "output_type": "execute_result",
          "data": {
            "text/plain": [
              "3    11936\n",
              "1    10769\n",
              "0    10760\n",
              "2    10591\n",
              "4    10178\n",
              "Name: views_bin, dtype: int64"
            ]
          },
          "metadata": {},
          "execution_count": 169
        }
      ]
    },
    {
      "cell_type": "code",
      "source": [
        "#카테고리 변수 -> 범주형 변수로 변환\n",
        "le = LabelEncoder()\n",
        "result = le.fit_transform(use_data['category'])\n",
        "use_data['category'] = result"
      ],
      "metadata": {
        "id": "9Vo-q8TVdVJ8"
      },
      "execution_count": null,
      "outputs": []
    },
    {
      "cell_type": "code",
      "source": [
        "data.category.value_counts() #범주형 변수로 변환하기 전 카테고리 변수"
      ],
      "metadata": {
        "colab": {
          "base_uri": "https://localhost:8080/"
        },
        "id": "YCRztzOkdulx",
        "outputId": "34734e2d-19f5-4d1c-d859-b851b0005529"
      },
      "execution_count": null,
      "outputs": [
        {
          "output_type": "execute_result",
          "data": {
            "text/plain": [
              "반려애완동물    9883\n",
              "education           9586\n",
              "뉴스/정치/사회            9516\n",
              "주식부동산경제             9144\n",
              "스포츠_운동              8819\n",
              "IT_컴퓨터              7506\n",
              "Name: category, dtype: int64"
            ]
          },
          "metadata": {},
          "execution_count": 171
        }
      ]
    },
    {
      "cell_type": "code",
      "source": [
        "use_data.category.value_counts() #변환한 후 카테고리 변수 "
      ],
      "metadata": {
        "colab": {
          "base_uri": "https://localhost:8080/"
        },
        "id": "o3-6G4KqdluK",
        "outputId": "04ca6ca8-dc7a-44ae-e840-5e01a460ba5d"
      },
      "execution_count": null,
      "outputs": [
        {
          "output_type": "execute_result",
          "data": {
            "text/plain": [
              "2    9883\n",
              "1    9586\n",
              "3    9394\n",
              "5    9051\n",
              "4    8819\n",
              "0    7501\n",
              "Name: category, dtype: int64"
            ]
          },
          "metadata": {},
          "execution_count": 172
        }
      ]
    },
    {
      "cell_type": "code",
      "source": [
        "use_data.subscriber.hist() # 얘를 정규화하거나 범주형으로 만들어서 넣어줘야할듯--> 아무나 시도 ㄱㄱ"
      ],
      "metadata": {
        "colab": {
          "base_uri": "https://localhost:8080/",
          "height": 296
        },
        "id": "-hzblw2MFKGc",
        "outputId": "393d1186-d07f-4a06-fdf5-dbb5372deafc"
      },
      "execution_count": null,
      "outputs": [
        {
          "output_type": "execute_result",
          "data": {
            "text/plain": [
              "<matplotlib.axes._subplots.AxesSubplot at 0x7fa89e2c6cd0>"
            ]
          },
          "metadata": {},
          "execution_count": 229
        },
        {
          "output_type": "display_data",
          "data": {
            "text/plain": [
              "<Figure size 432x288 with 1 Axes>"
            ],
            "image/png": "[encoded data removed]"
          },
          "metadata": {
            "needs_background": "light"
          }
        }
      ]
    },
    {
      "cell_type": "markdown",
      "source": [
        "## train, val, test 데이터 분리"
      ],
      "metadata": {
        "id": "grkXKpMDe3tb"
      }
    },
    {
      "cell_type": "code",
      "execution_count": null,
      "metadata": {
        "id": "RCMxQSM-tTSc",
        "colab": {
          "base_uri": "https://localhost:8080/"
        },
        "outputId": "e103f921-ee3d-4a76-9506-44f1d5417822"
      },
      "outputs": [
        {
          "output_type": "stream",
          "name": "stdout",
          "text": [
            "48810\n",
            "5424\n"
          ]
        }
      ],
      "source": [
        "from sklearn.model_selection import train_test_split\n",
        "train_dataset, test_dataset = train_test_split(use_data, test_size = 0.1, shuffle=True, random_state=34) #일단 9:1 비율로 train, test 데이터 나눔\n",
        "print(len(train_dataset))\n",
        "print(len(test_dataset))"
      ]
    },
    {
      "cell_type": "code",
      "execution_count": null,
      "metadata": {
        "id": "eWNDcp7fU8Jv",
        "colab": {
          "base_uri": "https://localhost:8080/"
        },
        "outputId": "b3d877ab-ac33-406b-8b1b-054f39e5aee4"
      },
      "outputs": [
        {
          "output_type": "stream",
          "name": "stdout",
          "text": [
            "39048\n",
            "9762\n"
          ]
        }
      ],
      "source": [
        "train_dataset, val_dataset  = train_test_split(train_dataset, test_size = 0.2, shuffle=True, random_state=34) #이후 train data를 8:2 비율로 train, val 데이터 추가로 나눔\n",
        "print(len(train_dataset))\n",
        "print(len(val_dataset))"
      ]
    },
    {
      "cell_type": "code",
      "source": [
        "train_dataset.preprocessed_title.iloc[37]"
      ],
      "metadata": {
        "colab": {
          "base_uri": "https://localhost:8080/",
          "height": 35
        },
        "id": "HWZXq697A5_8",
        "outputId": "61b32a2b-c54e-4d2a-b7d9-b240a50999e5"
      },
      "execution_count": null,
      "outputs": [
        {
          "output_type": "execute_result",
          "data": {
            "text/plain": [
              "'위기는 기회 ? 코로나19로 체제 강화 노리는 북한 ytn'"
            ],
            "application/vnd.google.colaboratory.intrinsic+json": {
              "type": "string"
            }
          },
          "metadata": {},
          "execution_count": 175
        }
      ]
    },
    {
      "cell_type": "markdown",
      "source": [
        "# Tokenization"
      ],
      "metadata": {
        "id": "xakwUXKRC1Dg"
      }
    },
    {
      "cell_type": "code",
      "source": [
        "from transformers import BartModel\n",
        "from kobart import get_pytorch_kobart_model, get_kobart_tokenizer\n",
        "\n",
        "tokenizer = get_kobart_tokenizer()\n",
        "model = BartModel.from_pretrained(get_pytorch_kobart_model())\n",
        "inputs = tokenizer([train_dataset.preprocessed_title.iloc[37]], return_tensors='pt')\n",
        "#model(inputs['input_ids'])"
      ],
      "metadata": {
        "colab": {
          "base_uri": "https://localhost:8080/"
        },
        "id": "l7f8BniG7fn3",
        "outputId": "2c7634e7-18b5-4b17-e671-97b8da1cb546"
      },
      "execution_count": null,
      "outputs": [
        {
          "output_type": "stream",
          "name": "stdout",
          "text": [
            "using cached model. /content/.cache/kobart_base_tokenizer_cased_cf74400bce.zip\n",
            "using cached model. /content/.cache/kobart_base_cased_ff4bda5738.zip\n"
          ]
        }
      ]
    },
    {
      "cell_type": "code",
      "source": [
        "ex1 = tokenizer.encode(train_dataset.preprocessed_title.iloc[37])\n",
        "tokenizer.convert_ids_to_tokens(ex1)"
      ],
      "metadata": {
        "colab": {
          "base_uri": "https://localhost:8080/"
        },
        "id": "8gn_TzbyA3bm",
        "outputId": "e311f418-5cd1-41da-9223-d957b04ce6d0"
      },
      "execution_count": null,
      "outputs": [
        {
          "output_type": "execute_result",
          "data": {
            "text/plain": [
              "['▁위',\n",
              " '기는',\n",
              " '▁기회',\n",
              " '▁?',\n",
              " '▁코',\n",
              " '로',\n",
              " '나',\n",
              " '19',\n",
              " '로',\n",
              " '▁체제',\n",
              " '▁강화',\n",
              " '▁노',\n",
              " '리는',\n",
              " '▁북한',\n",
              " '▁y',\n",
              " 't',\n",
              " 'n']"
            ]
          },
          "metadata": {},
          "execution_count": 177
        }
      ]
    },
    {
      "cell_type": "code",
      "source": [
        "# train, val에 사용\n",
        "class Train_Val_Dataset(Dataset):\n",
        "\n",
        "    def __init__(self, df,max_seq_len=64):\n",
        "        self.data = df\n",
        "        self.tokenizer = get_kobart_tokenizer()\n",
        "        self.max_seq_len = max_seq_len\n",
        "\n",
        "    def __getitem__(self, index):\n",
        "\n",
        "        record = self.data.iloc[index]\n",
        "        text, table, label = str(record[\"preprocessed_title\"]), record[['subscriber', 'date_diff','category']],int(record[\"views_bin\"])\n",
        "        tokens = (\n",
        "            [self.tokenizer.bos_token]\n",
        "            + self.tokenizer.tokenize(text)\n",
        "            + [self.tokenizer.eos_token]\n",
        "        )\n",
        "        encoder_input_id = self.tokenizer.convert_tokens_to_ids(tokens)\n",
        "        attention_mask = [1] * len(encoder_input_id)\n",
        "        if len(encoder_input_id) < self.max_seq_len:\n",
        "            while len(encoder_input_id) < self.max_seq_len:\n",
        "                encoder_input_id += [self.tokenizer.pad_token_id]\n",
        "                attention_mask += [0]\n",
        "        else:\n",
        "            encoder_input_id = encoder_input_id[: self.max_seq_len - 1] + [\n",
        "                self.tokenizer.eos_token_id\n",
        "            ]\n",
        "            attention_mask = attention_mask[: self.max_seq_len]\n",
        "        return {\n",
        "            \"input_text\": np.array(encoder_input_id, dtype=np.int_),\n",
        "            \"input_table\": np.array(table, dtype=np.int_),\n",
        "            \"attention_mask\": np.array(attention_mask, dtype=float),\n",
        "            \"labels\": np.array(label, dtype=np.int_),\n",
        "        }\n",
        "    def __len__(self):\n",
        "        return len(self.data)\n",
        "    \n",
        "# test 예측에 사용\n",
        "class TestDataset(Dataset):\n",
        "\n",
        "    def __init__(self, df,max_seq_len=64):\n",
        "        self.data = df\n",
        "        self.tokenizer = get_kobart_tokenizer()\n",
        "        self.max_seq_len = max_seq_len\n",
        "\n",
        "    def __getitem__(self, index):\n",
        "\n",
        "        record = self.data.iloc[index]\n",
        "        text, table = str(record[\"preprocessed_title\"]), record[['subscriber', 'date_diff','category']]\n",
        "        tokens = (\n",
        "            [self.tokenizer.bos_token]\n",
        "            + self.tokenizer.tokenize(text)\n",
        "            + [self.tokenizer.eos_token]\n",
        "        )\n",
        "        encoder_input_id = self.tokenizer.convert_tokens_to_ids(tokens)\n",
        "        attention_mask = [1] * len(encoder_input_id)\n",
        "        if len(encoder_input_id) < self.max_seq_len:\n",
        "            while len(encoder_input_id) < self.max_seq_len:\n",
        "                encoder_input_id += [self.tokenizer.pad_token_id]\n",
        "                attention_mask += [0]\n",
        "        else:\n",
        "            encoder_input_id = encoder_input_id[: self.max_seq_len - 1] + [\n",
        "                self.tokenizer.eos_token_id\n",
        "            ]\n",
        "            attention_mask = attention_mask[: self.max_seq_len]\n",
        "        return {\n",
        "            \"input_ids\": np.array(encoder_input_id, dtype=np.int_),\n",
        "            \"input_table\": np.array(table, dtype=np.int_),\n",
        "            \"attention_mask\": np.array(attention_mask, dtype=float),\n",
        "        }\n",
        "\n",
        "\n",
        "    def __len__(self):\n",
        "        return len(self.data)"
      ],
      "metadata": {
        "id": "TbLQTkiN8VEg"
      },
      "execution_count": null,
      "outputs": []
    },
    {
      "cell_type": "code",
      "source": [
        "TRAIN_BATCH_SIZE = 24 # batch size가 클수록 global minimum에 도달하는 속도가 증가합니다. (GPU 메모리에 따라 변경해 주세요, 너무 크면 OOM 문제가 발생합니다.)\n",
        "TEST_BATCH_SIZE = 1"
      ],
      "metadata": {
        "id": "z-ZC5EYd_ghS"
      },
      "execution_count": null,
      "outputs": []
    },
    {
      "cell_type": "code",
      "source": [
        "train_data = Train_Val_Dataset(train_dataset)\n",
        "val_data = Train_Val_Dataset(val_dataset)\n",
        "test_data = TestDataset(test_dataset)\n",
        "\n",
        "# batch_size 만큼 데이터 분할\n",
        "train_dataloader = DataLoader(train_data,\n",
        "                                batch_size=TRAIN_BATCH_SIZE,\n",
        "                                shuffle=True)\n",
        "\n",
        "val_dataloader = DataLoader(val_data,\n",
        "                            batch_size=TRAIN_BATCH_SIZE,\n",
        "                            shuffle=False) #drop_last=True\n",
        "\n",
        "test_dataloader = DataLoader(test_data,\n",
        "                                batch_size=TEST_BATCH_SIZE,\n",
        "                                shuffle=False)\n",
        "\n",
        "\n",
        "\n",
        "print(len(train_dataloader))\n",
        "print(len(val_dataloader))\n",
        "print(len(test_dataloader))"
      ],
      "metadata": {
        "colab": {
          "base_uri": "https://localhost:8080/"
        },
        "id": "IlaTbRg2_j0c",
        "outputId": "1d9cc2ff-b1d9-411e-acc6-a8082ef7cae1"
      },
      "execution_count": null,
      "outputs": [
        {
          "output_type": "stream",
          "name": "stdout",
          "text": [
            "using cached model. /content/.cache/kobart_base_tokenizer_cased_cf74400bce.zip\n",
            "using cached model. /content/.cache/kobart_base_tokenizer_cased_cf74400bce.zip\n",
            "using cached model. /content/.cache/kobart_base_tokenizer_cased_cf74400bce.zip\n",
            "1627\n",
            "407\n",
            "5424\n"
          ]
        }
      ]
    },
    {
      "cell_type": "code",
      "source": [
        "train_data.__getitem__(3)"
      ],
      "metadata": {
        "colab": {
          "base_uri": "https://localhost:8080/"
        },
        "id": "MIYDzObohseK",
        "outputId": "9f4dc141-fccb-46ac-9baa-b20ffc2fb352"
      },
      "execution_count": null,
      "outputs": [
        {
          "output_type": "execute_result",
          "data": {
            "text/plain": [
              "{'attention_mask': array([1., 1., 1., 1., 1., 1., 1., 1., 1., 1., 1., 1., 1., 1., 1., 1., 1.,\n",
              "        1., 0., 0., 0., 0., 0., 0., 0., 0., 0., 0., 0., 0., 0., 0., 0., 0.,\n",
              "        0., 0., 0., 0., 0., 0., 0., 0., 0., 0., 0., 0., 0., 0., 0., 0., 0.,\n",
              "        0., 0., 0., 0., 0., 0., 0., 0., 0., 0., 0., 0., 0.]),\n",
              " 'input_table': array([2170000,     512,       1]),\n",
              " 'input_text': array([    0, 22444, 11300, 14489, 16609, 12024, 20386, 11921, 14461,\n",
              "        15691, 14460, 14460, 11853, 11300, 16069, 13090, 16211,     1,\n",
              "            3,     3,     3,     3,     3,     3,     3,     3,     3,\n",
              "            3,     3,     3,     3,     3,     3,     3,     3,     3,\n",
              "            3,     3,     3,     3,     3,     3,     3,     3,     3,\n",
              "            3,     3,     3,     3,     3,     3,     3,     3,     3,\n",
              "            3,     3,     3,     3,     3,     3,     3,     3,     3,\n",
              "            3]),\n",
              " 'labels': array(4)}"
            ]
          },
          "metadata": {},
          "execution_count": 200
        }
      ]
    },
    {
      "cell_type": "markdown",
      "source": [
        "## 모델링\n",
        "![유튜브 모델.drawio (1).png](data:image/png;base64,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)"
      ],
      "metadata": {
        "id": "wPSmtBx695Nj"
      }
    },
    {
      "cell_type": "code",
      "source": [
        "import torch.nn as nn\n",
        "import torch\n",
        "from transformers import BertForSequenceClassification, AdamW, BertConfig\n",
        "from transformers import BartForSequenceClassification"
      ],
      "metadata": {
        "id": "26shx4INjS_z"
      },
      "execution_count": null,
      "outputs": []
    },
    {
      "cell_type": "code",
      "source": [
        "bart = BartModel.from_pretrained(get_pytorch_kobart_model())\n",
        "bart.eval()"
      ],
      "metadata": {
        "colab": {
          "base_uri": "https://localhost:8080/"
        },
        "id": "hQrHdZMKXgpO",
        "outputId": "695cb7c5-7e7a-4d41-ab41-bd8e14585bc1"
      },
      "execution_count": null,
      "outputs": [
        {
          "output_type": "stream",
          "name": "stdout",
          "text": [
            "using cached model. /content/.cache/kobart_base_cased_ff4bda5738.zip\n"
          ]
        },
        {
          "output_type": "execute_result",
          "data": {
            "text/plain": [
              "BartModel(\n",
              "  (shared): Embedding(30000, 768, padding_idx=3)\n",
              "  (encoder): BartEncoder(\n",
              "    (embed_tokens): Embedding(30000, 768, padding_idx=3)\n",
              "    (embed_positions): BartLearnedPositionalEmbedding(1028, 768, padding_idx=3)\n",
              "    (layers): ModuleList(\n",
              "      (0): BartEncoderLayer(\n",
              "        (self_attn): BartAttention(\n",
              "          (k_proj): Linear(in_features=768, out_features=768, bias=True)\n",
              "          (v_proj): Linear(in_features=768, out_features=768, bias=True)\n",
              "          (q_proj): Linear(in_features=768, out_features=768, bias=True)\n",
              "          (out_proj): Linear(in_features=768, out_features=768, bias=True)\n",
              "        )\n",
              "        (self_attn_layer_norm): LayerNorm((768,), eps=1e-05, elementwise_affine=True)\n",
              "        (fc1): Linear(in_features=768, out_features=3072, bias=True)\n",
              "        (fc2): Linear(in_features=3072, out_features=768, bias=True)\n",
              "        (final_layer_norm): LayerNorm((768,), eps=1e-05, elementwise_affine=True)\n",
              "      )\n",
              "      (1): BartEncoderLayer(\n",
              "        (self_attn): BartAttention(\n",
              "          (k_proj): Linear(in_features=768, out_features=768, bias=True)\n",
              "          (v_proj): Linear(in_features=768, out_features=768, bias=True)\n",
              "          (q_proj): Linear(in_features=768, out_features=768, bias=True)\n",
              "          (out_proj): Linear(in_features=768, out_features=768, bias=True)\n",
              "        )\n",
              "        (self_attn_layer_norm): LayerNorm((768,), eps=1e-05, elementwise_affine=True)\n",
              "        (fc1): Linear(in_features=768, out_features=3072, bias=True)\n",
              "        (fc2): Linear(in_features=3072, out_features=768, bias=True)\n",
              "        (final_layer_norm): LayerNorm((768,), eps=1e-05, elementwise_affine=True)\n",
              "      )\n",
              "      (2): BartEncoderLayer(\n",
              "        (self_attn): BartAttention(\n",
              "          (k_proj): Linear(in_features=768, out_features=768, bias=True)\n",
              "          (v_proj): Linear(in_features=768, out_features=768, bias=True)\n",
              "          (q_proj): Linear(in_features=768, out_features=768, bias=True)\n",
              "          (out_proj): Linear(in_features=768, out_features=768, bias=True)\n",
              "        )\n",
              "        (self_attn_layer_norm): LayerNorm((768,), eps=1e-05, elementwise_affine=True)\n",
              "        (fc1): Linear(in_features=768, out_features=3072, bias=True)\n",
              "        (fc2): Linear(in_features=3072, out_features=768, bias=True)\n",
              "        (final_layer_norm): LayerNorm((768,), eps=1e-05, elementwise_affine=True)\n",
              "      )\n",
              "      (3): BartEncoderLayer(\n",
              "        (self_attn): BartAttention(\n",
              "          (k_proj): Linear(in_features=768, out_features=768, bias=True)\n",
              "          (v_proj): Linear(in_features=768, out_features=768, bias=True)\n",
              "          (q_proj): Linear(in_features=768, out_features=768, bias=True)\n",
              "          (out_proj): Linear(in_features=768, out_features=768, bias=True)\n",
              "        )\n",
              "        (self_attn_layer_norm): LayerNorm((768,), eps=1e-05, elementwise_affine=True)\n",
              "        (fc1): Linear(in_features=768, out_features=3072, bias=True)\n",
              "        (fc2): Linear(in_features=3072, out_features=768, bias=True)\n",
              "        (final_layer_norm): LayerNorm((768,), eps=1e-05, elementwise_affine=True)\n",
              "      )\n",
              "      (4): BartEncoderLayer(\n",
              "        (self_attn): BartAttention(\n",
              "          (k_proj): Linear(in_features=768, out_features=768, bias=True)\n",
              "          (v_proj): Linear(in_features=768, out_features=768, bias=True)\n",
              "          (q_proj): Linear(in_features=768, out_features=768, bias=True)\n",
              "          (out_proj): Linear(in_features=768, out_features=768, bias=True)\n",
              "        )\n",
              "        (self_attn_layer_norm): LayerNorm((768,), eps=1e-05, elementwise_affine=True)\n",
              "        (fc1): Linear(in_features=768, out_features=3072, bias=True)\n",
              "        (fc2): Linear(in_features=3072, out_features=768, bias=True)\n",
              "        (final_layer_norm): LayerNorm((768,), eps=1e-05, elementwise_affine=True)\n",
              "      )\n",
              "      (5): BartEncoderLayer(\n",
              "        (self_attn): BartAttention(\n",
              "          (k_proj): Linear(in_features=768, out_features=768, bias=True)\n",
              "          (v_proj): Linear(in_features=768, out_features=768, bias=True)\n",
              "          (q_proj): Linear(in_features=768, out_features=768, bias=True)\n",
              "          (out_proj): Linear(in_features=768, out_features=768, bias=True)\n",
              "        )\n",
              "        (self_attn_layer_norm): LayerNorm((768,), eps=1e-05, elementwise_affine=True)\n",
              "        (fc1): Linear(in_features=768, out_features=3072, bias=True)\n",
              "        (fc2): Linear(in_features=3072, out_features=768, bias=True)\n",
              "        (final_layer_norm): LayerNorm((768,), eps=1e-05, elementwise_affine=True)\n",
              "      )\n",
              "    )\n",
              "    (layernorm_embedding): LayerNorm((768,), eps=1e-05, elementwise_affine=True)\n",
              "  )\n",
              "  (decoder): BartDecoder(\n",
              "    (embed_tokens): Embedding(30000, 768, padding_idx=3)\n",
              "    (embed_positions): BartLearnedPositionalEmbedding(1028, 768, padding_idx=3)\n",
              "    (layers): ModuleList(\n",
              "      (0): BartDecoderLayer(\n",
              "        (self_attn): BartAttention(\n",
              "          (k_proj): Linear(in_features=768, out_features=768, bias=True)\n",
              "          (v_proj): Linear(in_features=768, out_features=768, bias=True)\n",
              "          (q_proj): Linear(in_features=768, out_features=768, bias=True)\n",
              "          (out_proj): Linear(in_features=768, out_features=768, bias=True)\n",
              "        )\n",
              "        (self_attn_layer_norm): LayerNorm((768,), eps=1e-05, elementwise_affine=True)\n",
              "        (encoder_attn): BartAttention(\n",
              "          (k_proj): Linear(in_features=768, out_features=768, bias=True)\n",
              "          (v_proj): Linear(in_features=768, out_features=768, bias=True)\n",
              "          (q_proj): Linear(in_features=768, out_features=768, bias=True)\n",
              "          (out_proj): Linear(in_features=768, out_features=768, bias=True)\n",
              "        )\n",
              "        (encoder_attn_layer_norm): LayerNorm((768,), eps=1e-05, elementwise_affine=True)\n",
              "        (fc1): Linear(in_features=768, out_features=3072, bias=True)\n",
              "        (fc2): Linear(in_features=3072, out_features=768, bias=True)\n",
              "        (final_layer_norm): LayerNorm((768,), eps=1e-05, elementwise_affine=True)\n",
              "      )\n",
              "      (1): BartDecoderLayer(\n",
              "        (self_attn): BartAttention(\n",
              "          (k_proj): Linear(in_features=768, out_features=768, bias=True)\n",
              "          (v_proj): Linear(in_features=768, out_features=768, bias=True)\n",
              "          (q_proj): Linear(in_features=768, out_features=768, bias=True)\n",
              "          (out_proj): Linear(in_features=768, out_features=768, bias=True)\n",
              "        )\n",
              "        (self_attn_layer_norm): LayerNorm((768,), eps=1e-05, elementwise_affine=True)\n",
              "        (encoder_attn): BartAttention(\n",
              "          (k_proj): Linear(in_features=768, out_features=768, bias=True)\n",
              "          (v_proj): Linear(in_features=768, out_features=768, bias=True)\n",
              "          (q_proj): Linear(in_features=768, out_features=768, bias=True)\n",
              "          (out_proj): Linear(in_features=768, out_features=768, bias=True)\n",
              "        )\n",
              "        (encoder_attn_layer_norm): LayerNorm((768,), eps=1e-05, elementwise_affine=True)\n",
              "        (fc1): Linear(in_features=768, out_features=3072, bias=True)\n",
              "        (fc2): Linear(in_features=3072, out_features=768, bias=True)\n",
              "        (final_layer_norm): LayerNorm((768,), eps=1e-05, elementwise_affine=True)\n",
              "      )\n",
              "      (2): BartDecoderLayer(\n",
              "        (self_attn): BartAttention(\n",
              "          (k_proj): Linear(in_features=768, out_features=768, bias=True)\n",
              "          (v_proj): Linear(in_features=768, out_features=768, bias=True)\n",
              "          (q_proj): Linear(in_features=768, out_features=768, bias=True)\n",
              "          (out_proj): Linear(in_features=768, out_features=768, bias=True)\n",
              "        )\n",
              "        (self_attn_layer_norm): LayerNorm((768,), eps=1e-05, elementwise_affine=True)\n",
              "        (encoder_attn): BartAttention(\n",
              "          (k_proj): Linear(in_features=768, out_features=768, bias=True)\n",
              "          (v_proj): Linear(in_features=768, out_features=768, bias=True)\n",
              "          (q_proj): Linear(in_features=768, out_features=768, bias=True)\n",
              "          (out_proj): Linear(in_features=768, out_features=768, bias=True)\n",
              "        )\n",
              "        (encoder_attn_layer_norm): LayerNorm((768,), eps=1e-05, elementwise_affine=True)\n",
              "        (fc1): Linear(in_features=768, out_features=3072, bias=True)\n",
              "        (fc2): Linear(in_features=3072, out_features=768, bias=True)\n",
              "        (final_layer_norm): LayerNorm((768,), eps=1e-05, elementwise_affine=True)\n",
              "      )\n",
              "      (3): BartDecoderLayer(\n",
              "        (self_attn): BartAttention(\n",
              "          (k_proj): Linear(in_features=768, out_features=768, bias=True)\n",
              "          (v_proj): Linear(in_features=768, out_features=768, bias=True)\n",
              "          (q_proj): Linear(in_features=768, out_features=768, bias=True)\n",
              "          (out_proj): Linear(in_features=768, out_features=768, bias=True)\n",
              "        )\n",
              "        (self_attn_layer_norm): LayerNorm((768,), eps=1e-05, elementwise_affine=True)\n",
              "        (encoder_attn): BartAttention(\n",
              "          (k_proj): Linear(in_features=768, out_features=768, bias=True)\n",
              "          (v_proj): Linear(in_features=768, out_features=768, bias=True)\n",
              "          (q_proj): Linear(in_features=768, out_features=768, bias=True)\n",
              "          (out_proj): Linear(in_features=768, out_features=768, bias=True)\n",
              "        )\n",
              "        (encoder_attn_layer_norm): LayerNorm((768,), eps=1e-05, elementwise_affine=True)\n",
              "        (fc1): Linear(in_features=768, out_features=3072, bias=True)\n",
              "        (fc2): Linear(in_features=3072, out_features=768, bias=True)\n",
              "        (final_layer_norm): LayerNorm((768,), eps=1e-05, elementwise_affine=True)\n",
              "      )\n",
              "      (4): BartDecoderLayer(\n",
              "        (self_attn): BartAttention(\n",
              "          (k_proj): Linear(in_features=768, out_features=768, bias=True)\n",
              "          (v_proj): Linear(in_features=768, out_features=768, bias=True)\n",
              "          (q_proj): Linear(in_features=768, out_features=768, bias=True)\n",
              "          (out_proj): Linear(in_features=768, out_features=768, bias=True)\n",
              "        )\n",
              "        (self_attn_layer_norm): LayerNorm((768,), eps=1e-05, elementwise_affine=True)\n",
              "        (encoder_attn): BartAttention(\n",
              "          (k_proj): Linear(in_features=768, out_features=768, bias=True)\n",
              "          (v_proj): Linear(in_features=768, out_features=768, bias=True)\n",
              "          (q_proj): Linear(in_features=768, out_features=768, bias=True)\n",
              "          (out_proj): Linear(in_features=768, out_features=768, bias=True)\n",
              "        )\n",
              "        (encoder_attn_layer_norm): LayerNorm((768,), eps=1e-05, elementwise_affine=True)\n",
              "        (fc1): Linear(in_features=768, out_features=3072, bias=True)\n",
              "        (fc2): Linear(in_features=3072, out_features=768, bias=True)\n",
              "        (final_layer_norm): LayerNorm((768,), eps=1e-05, elementwise_affine=True)\n",
              "      )\n",
              "      (5): BartDecoderLayer(\n",
              "        (self_attn): BartAttention(\n",
              "          (k_proj): Linear(in_features=768, out_features=768, bias=True)\n",
              "          (v_proj): Linear(in_features=768, out_features=768, bias=True)\n",
              "          (q_proj): Linear(in_features=768, out_features=768, bias=True)\n",
              "          (out_proj): Linear(in_features=768, out_features=768, bias=True)\n",
              "        )\n",
              "        (self_attn_layer_norm): LayerNorm((768,), eps=1e-05, elementwise_affine=True)\n",
              "        (encoder_attn): BartAttention(\n",
              "          (k_proj): Linear(in_features=768, out_features=768, bias=True)\n",
              "          (v_proj): Linear(in_features=768, out_features=768, bias=True)\n",
              "          (q_proj): Linear(in_features=768, out_features=768, bias=True)\n",
              "          (out_proj): Linear(in_features=768, out_features=768, bias=True)\n",
              "        )\n",
              "        (encoder_attn_layer_norm): LayerNorm((768,), eps=1e-05, elementwise_affine=True)\n",
              "        (fc1): Linear(in_features=768, out_features=3072, bias=True)\n",
              "        (fc2): Linear(in_features=3072, out_features=768, bias=True)\n",
              "        (final_layer_norm): LayerNorm((768,), eps=1e-05, elementwise_affine=True)\n",
              "      )\n",
              "    )\n",
              "    (layernorm_embedding): LayerNorm((768,), eps=1e-05, elementwise_affine=True)\n",
              "  )\n",
              ")"
            ]
          },
          "metadata": {},
          "execution_count": 261
        }
      ]
    },
    {
      "cell_type": "code",
      "source": [
        "dataiter = iter(train_dataloader)\n",
        "batch = dataiter.next()\n",
        "#outs = model(input_ids = batch[\"input_ids\"], attention_mask=batch[\"attention_mask\"],labels=batch['labels'])\n",
        "outs = bart(input_ids = batch[\"input_text\"], attention_mask=batch[\"attention_mask\"])\n",
        "print(outs.keys())"
      ],
      "metadata": {
        "id": "tRSlKY_n25Dx",
        "colab": {
          "base_uri": "https://localhost:8080/"
        },
        "outputId": "92c56885-2471-40a2-f941-022fb5cc981d"
      },
      "execution_count": null,
      "outputs": [
        {
          "output_type": "stream",
          "name": "stdout",
          "text": [
            "odict_keys(['last_hidden_state', 'past_key_values', 'encoder_last_hidden_state'])\n"
          ]
        }
      ]
    },
    {
      "cell_type": "code",
      "source": [
        "outs['last_hidden_state'].shape"
      ],
      "metadata": {
        "colab": {
          "base_uri": "https://localhost:8080/"
        },
        "id": "9Dol0Hi143gr",
        "outputId": "7095950e-dfda-42bb-f8fb-c5b74b202e8c"
      },
      "execution_count": null,
      "outputs": [
        {
          "output_type": "execute_result",
          "data": {
            "text/plain": [
              "torch.Size([24, 64, 768])"
            ]
          },
          "metadata": {},
          "execution_count": 263
        }
      ]
    },
    {
      "cell_type": "code",
      "source": [
        "hidden_states = outs['last_hidden_state']\n",
        "hidden_states = hidden_states.view(hidden_states.size(0),-1,hidden_states.size(-1))[ :, -1, :] #.shape # classification의 head # eos token은 없는걸로~,,\n",
        "hidden_states.shape #(batch, 768)"
      ],
      "metadata": {
        "colab": {
          "base_uri": "https://localhost:8080/"
        },
        "id": "sF5iSSgoBCJG",
        "outputId": "5d7aa46d-fed4-43c9-e602-ac538d489a45"
      },
      "execution_count": null,
      "outputs": [
        {
          "output_type": "execute_result",
          "data": {
            "text/plain": [
              "torch.Size([24, 768])"
            ]
          },
          "metadata": {},
          "execution_count": 264
        }
      ]
    },
    {
      "cell_type": "code",
      "source": [
        "class Classifier(nn.Module):\n",
        "    def __init__(self, input_dim, output_dim): # input_dim\n",
        "        super(Classifier, self).__init__()\n",
        "        self.input_dim = input_dim\n",
        "        self.output_dim = output_dim\n",
        "        self.linear = nn.Sequential(nn.Linear(input_dim, input_dim//2),\n",
        "                                    nn.ReLU(),\n",
        "                                    nn.Linear(input_dim//2, input_dim//4),\n",
        "                                    nn.ReLU(),\n",
        "                                    nn.Linear(input_dim//4, output_dim))\n",
        "    def forward(self, x):\n",
        "        output = self.linear(x)\n",
        "        return output"
      ],
      "metadata": {
        "id": "wZ3WjE0PlR8l"
      },
      "execution_count": null,
      "outputs": []
    },
    {
      "cell_type": "code",
      "source": [
        "class FinalModel(nn.Module):\n",
        "    def __init__(self, table_dim, num_label):  # table_dim은 정형데이터의 column 수라 생각하면 됨\n",
        "        super(FinalModel, self).__init__()\n",
        "        self.text_extractor = bart \n",
        "        self.table_extractor = nn.Sequential(nn.Linear(table_dim, 768//2),\n",
        "                                             nn.ReLU(),\n",
        "                                             nn.Linear(768//2, 768),\n",
        "                                             nn.ReLU())\n",
        "        self.classifier = Classifier(768 * 2, num_label)\n",
        "    \n",
        "    def forward(self, x):\n",
        "        text_input = x['input_text'] \n",
        "        attention_input = x['attention_mask']\n",
        "        table_input = x['input_table'].float() # (batch_size, table_dim)\n",
        "        text_feature = self.text_extractor(text_input, attention_input)['last_hidden_state'] # (batch_size, 768)\n",
        "        text_feature =  text_feature.view(text_feature.size(0),-1,text_feature.size(-1))[ :, -1, :]\n",
        "        table_feature = self.table_extractor(table_input) # (batch_size, 768)\n",
        "        fusion_input = torch.cat([text_feature, table_feature], dim = 1) # (batch_size, 768 * 2)\n",
        "        output = self.classifier(fusion_input)\n",
        "        return output\n",
        "\n"
      ],
      "metadata": {
        "id": "dvY-9IazkEDU"
      },
      "execution_count": null,
      "outputs": []
    },
    {
      "cell_type": "code",
      "source": [
        "model = FinalModel(table_dim=3, num_label=5) # 현재 사용하는 정형데이터 feature 수는 3개이므로 table_dim=3"
      ],
      "metadata": {
        "id": "NnsrG3xxq7TN"
      },
      "execution_count": null,
      "outputs": []
    },
    {
      "cell_type": "code",
      "source": [
        "dataiter = iter(train_dataloader)\n",
        "batch = dataiter.next()\n",
        "out = model(batch)\n",
        "out.shape"
      ],
      "metadata": {
        "colab": {
          "base_uri": "https://localhost:8080/"
        },
        "id": "qbNWt9_NnAFs",
        "outputId": "f965b5db-87da-4c88-c76b-690c212e6469"
      },
      "execution_count": null,
      "outputs": [
        {
          "output_type": "execute_result",
          "data": {
            "text/plain": [
              "torch.Size([24, 5])"
            ]
          },
          "metadata": {},
          "execution_count": 268
        }
      ]
    },
    {
      "cell_type": "markdown",
      "source": [
        "## 모델 훈련"
      ],
      "metadata": {
        "id": "JMQ-_35xnpZf"
      }
    },
    {
      "cell_type": "code",
      "source": [
        "device = torch.device('cuda:0' if torch.cuda.is_available() else 'cpu')\n",
        "device"
      ],
      "metadata": {
        "colab": {
          "base_uri": "https://localhost:8080/"
        },
        "id": "ByJDTgSGnof4",
        "outputId": "77e7e6e5-f062-4770-f9f1-6f498507d481"
      },
      "execution_count": null,
      "outputs": [
        {
          "output_type": "execute_result",
          "data": {
            "text/plain": [
              "device(type='cuda', index=0)"
            ]
          },
          "metadata": {},
          "execution_count": 269
        }
      ]
    },
    {
      "cell_type": "code",
      "source": [
        "#훈련을 위한 함수\n",
        "def train_function(model, optimizer, loss_func, num_epochs):\n",
        "    loss_array = []\n",
        "    for i in range(num_epochs):\n",
        "        for j, batch_data in enumerate(train_dataloader):\n",
        "            x = batch_data\n",
        "            for key, value in x.items():\n",
        "                 x[key] = x[key].to(device)\n",
        "            y = batch_data['labels'].to(device)\n",
        "        \n",
        "            optimizer.zero_grad()\n",
        "            output = model(x)\n",
        "            loss = loss_func(output,y)\n",
        "            loss.backward()\n",
        "            optimizer.step()\n",
        "            \n",
        "        loss_array.append(loss.data.cpu().detach().numpy())\n",
        "        print(f'epoch{i+1} training loss: {loss.data}') # 1epoch 마다 loss 출력\n",
        "        test_function(model)\n",
        "        \n",
        "    return loss_array"
      ],
      "metadata": {
        "id": "gbSKXRSSnl7-"
      },
      "execution_count": null,
      "outputs": []
    },
    {
      "cell_type": "code",
      "source": [
        "#validation셋에 대해 정확도 출력하는 함수\n",
        "def test_function(model):\n",
        "    correct =0\n",
        "    total = 0\n",
        "\n",
        "    with torch.no_grad():\n",
        "        for batch_data in val_dataloader:\n",
        "            x = batch_data\n",
        "            for key, value in x.items():\n",
        "                 x[key] = x[key].to(device)\n",
        "            y = batch_data['labels'].to(device)\n",
        "            output=model(x)\n",
        "            _, pred = torch.max(output,axis=1)#가장 큰 값과 인덱스 반환\n",
        "            total += y.shape[0]\n",
        "            correct += torch.sum(pred==y)\n",
        "        print('Accuracy of Test Data:{}%'.format(100*(correct/total)))  "
      ],
      "metadata": {
        "id": "RoL3W-R2oZ98"
      },
      "execution_count": null,
      "outputs": []
    },
    {
      "cell_type": "code",
      "source": [
        "#loss history를 받을때, 이를 그래프로 시각화하는 함수\n",
        "import matplotlib.pyplot as plt\n",
        "\n",
        "def show_loss(loss_history):\n",
        "    plt.plot(loss_history)\n",
        "    plt.xlabel('epoch')\n",
        "    plt.ylabel('train_loss')\n",
        "    plt.show()"
      ],
      "metadata": {
        "id": "YdTPsecqpREN"
      },
      "execution_count": null,
      "outputs": []
    },
    {
      "cell_type": "code",
      "source": [
        "NUM_EPOCHS = 5\n",
        "LR = 1e-3\n",
        "TABLE_DIM = 3\n",
        "NUM_LABELS = 5"
      ],
      "metadata": {
        "id": "pYaSfSMQqE9k"
      },
      "execution_count": null,
      "outputs": []
    },
    {
      "cell_type": "code",
      "source": [
        "import torch.optim as optim\n",
        "\n",
        "model = FinalModel(table_dim=TABLE_DIM, num_label=NUM_LABELS).to(device) # 현재 사용하는 정형데이터 feature 수는 3개이므로 table_dim=3\n",
        "loss_func = nn.CrossEntropyLoss() #이 안에 이미 softmax가 구현되어 있음\n",
        "optimizer = optim.Adam(model.parameters(), lr=LR)"
      ],
      "metadata": {
        "id": "sZbChdg_qTzY"
      },
      "execution_count": null,
      "outputs": []
    },
    {
      "cell_type": "code",
      "source": [
        "train_losses = train_function(model, optimizer, loss_func, NUM_EPOCHS)"
      ],
      "metadata": {
        "colab": {
          "base_uri": "https://localhost:8080/"
        },
        "id": "U0PBQcUmprsQ",
        "outputId": "5ed448b5-13bb-43bd-c62d-3d1631e443b7"
      },
      "execution_count": null,
      "outputs": [
        {
          "output_type": "stream",
          "name": "stdout",
          "text": [
            "epoch1 training loss: 1.632022500038147\n",
            "Accuracy of Test Data:21.501741409301758%\n",
            "epoch2 training loss: 1.6218563318252563\n",
            "Accuracy of Test Data:21.501741409301758%\n",
            "epoch3 training loss: 1.6106992959976196\n",
            "Accuracy of Test Data:21.501741409301758%\n",
            "epoch4 training loss: 1.6214712858200073\n",
            "Accuracy of Test Data:21.501741409301758%\n",
            "epoch5 training loss: 1.6151684522628784\n",
            "Accuracy of Test Data:21.501741409301758%\n"
          ]
        }
      ]
    },
    {
      "cell_type": "code",
      "source": [
        "# epoch마다 loss 시각화\n",
        "show_loss(train_losses)"
      ],
      "metadata": {
        "colab": {
          "base_uri": "https://localhost:8080/",
          "height": 279
        },
        "id": "TRovpitG9K2K",
        "outputId": "11fd4047-c4f1-41a6-ad76-b635fafc3259"
      },
      "execution_count": null,
      "outputs": [
        {
          "output_type": "display_data",
          "data": {
            "text/plain": [
              "<Figure size 432x288 with 1 Axes>"
            ],
            "image/png": "[encoded data removed]"
          },
          "metadata": {
            "needs_background": "light"
          }
        }
      ]
    },
    {
      "cell_type": "markdown",
      "source": [
        "## 모델 테스트"
      ],
      "metadata": {
        "id": "qt5pjBNlI9fk"
      }
    },
    {
      "cell_type": "code",
      "source": [
        "# test 결과 확인\n",
        "test_function(model)"
      ],
      "metadata": {
        "colab": {
          "base_uri": "https://localhost:8080/"
        },
        "id": "Owy15rim9Oly",
        "outputId": "1339cd32-3581-4bbb-afa8-f86918d6262b"
      },
      "execution_count": null,
      "outputs": [
        {
          "output_type": "stream",
          "name": "stdout",
          "text": [
            "Accuracy of Test Data:21.501741409301758%\n"
          ]
        }
      ]
    }
  ]
}