{
  "nbformat": 4,
  "nbformat_minor": 0,
  "metadata": {
    "colab": {
      "name": "유튜브 크롤링",
      "provenance": [],
      "authorship_tag": "ABX9TyNXZKx9j6szb1wN+4Jyqc5w",
      "include_colab_link": true
    },
    "kernelspec": {
      "name": "python3",
      "display_name": "Python 3"
    },
    "language_info": {
      "name": "python"
    }
  },
  "cells": [
    {
      "cell_type": "markdown",
      "metadata": {
        "id": "view-in-github",
        "colab_type": "text"
      },
      "source": [
        "<a href=\"https://colab.research.google.com/github/ChoiDae1/Youtube_Project/blob/main/%EC%9C%A0%ED%8A%9C%EB%B8%8C_%ED%81%AC%EB%A1%A4%EB%A7%81.ipynb\" target=\"_parent\"><img src=\"https://colab.research.google.com/assets/colab-badge.svg\" alt=\"Open In Colab\"/></a>"
      ]
    },
    {
      "cell_type": "code",
      "source": [
        "!pip install selenium"
      ],
      "metadata": {
        "id": "dOmg0DbR9HQL"
      },
      "execution_count": null,
      "outputs": []
    },
    {
      "cell_type": "code",
      "source": [
        "!apt-get update\n",
        "!apt install chromium-chromedriver"
      ],
      "metadata": {
        "id": "ZRTTHj3A_Nma"
      },
      "execution_count": null,
      "outputs": []
    },
    {
      "cell_type": "code",
      "source": [
        "import time\n",
        "\n",
        "from selenium import webdriver\n",
        "from selenium.webdriver.common.by import By\n",
        "from selenium.webdriver.support.ui import WebDriverWait\n",
        "from selenium.webdriver.support import expected_conditions as EC"
      ],
      "metadata": {
        "id": "9j-tTA7DAiRx"
      },
      "execution_count": 6,
      "outputs": []
    },
    {
      "cell_type": "code",
      "source": [
        "from selenium import webdriver\n",
        "from urllib.request import urlopen\n",
        "from bs4 import BeautifulSoup as bs\n",
        "from selenium import webdriver \n",
        "from selenium.webdriver.common.keys import Keys\n",
        "from selenium.webdriver.chrome.options import Options\n",
        "import time\n",
        "import sys\n",
        "import requests\n",
        "import pandas as pd"
      ],
      "metadata": {
        "id": "ZcXczPMfHgB3"
      },
      "execution_count": 24,
      "outputs": []
    },
    {
      "cell_type": "code",
      "source": [
        "it_과학기술 = {\n",
        "    'ZHC': 'https://www.youtube.com/c/ZHcomicart/videos',\n",
        "    'Mark Rober': 'https://www.youtube.com/c/MarkRober/videos',\n",
        "    'Apple': 'https://www.youtube.com/user/Apple/videos',\n",
        "    'Marques Brownlee': 'https://www.youtube.com/c/mkbhd/videos',\n",
        "    'Veritasium': 'https://www.youtube.com/c/veritasium/videos',\n",
        "    'CrazyRussianHacker': 'https://www.youtube.com/user/CrazyRussianHacker/videos',\n",
        "    'SmarterEveryDay': 'https://www.youtube.com/c/smartereveryday/videos',\n",
        "    'WIRED': 'https://www.youtube.com/channel/UCftwRNsjfRo08xYE31tkiyw',\n",
        "    'EverythingApplePro E A P': 'https://www.youtube.com/c/EverythingApplePro/videos',\n",
        "    '#Mind Warehouse': 'https://www.youtube.com/channel/UCYenDLnIHsoqQ6smwKXQ7Hg/videos',\n",
        "    'JerryRigEverything': 'https://www.youtube.com/c/JerryRigEverything/videos',\n",
        "    'iJustine': 'https://www.youtube.com/c/iJustine/videos',\n",
        "    'hickok45': 'https://www.youtube.com/user/hickok45/videos',\n",
        "    'freeCodeCamp.org': 'https://www.youtube.com/c/Freecodecamp/videos',\n",
        "    'Austin Evans': 'https://www.youtube.com/c/austinevans/videos',\n",
        "    'TheBackyardScientist': 'https://www.youtube.com/c/TheBackyardScientist/videos',\n",
        "    'Seeker': 'https://www.youtube.com/c/Seeker/videos',\n",
        "    'Ridddle': 'https://www.youtube.com/c/VineMontanaTV/videos',\n",
        "    'Be Smart': 'https://www.youtube.com/c/itsokaytobesmart/videos',\n",
        "    'The Organic Chemistry Tutor': 'https://www.youtube.com/c/TheOrganicChemistryTutor/videos'\n",
        "              }\n",
        "          "
      ],
      "metadata": {
        "id": "HdMY4hmhPdRg"
      },
      "execution_count": 73,
      "outputs": []
    },
    {
      "cell_type": "code",
      "source": [
        "# 유튜버 한명 url(/videos로 끝남) 하나 받으면 최신순으로 영상 100개에 대한 크롤링 반환\n",
        "def crawling_function(url):\n",
        "    # 웹 드라이버 초기화\n",
        "    chrome_options = webdriver.ChromeOptions()\n",
        "    chrome_options.add_argument('--headless') #내부 창을 띄울 수 없으므로 설정\n",
        "    chrome_options.add_argument('--no-sandbox')\n",
        "    chrome_options.add_argument('--disable-dev-shm-usage')\n",
        "    driver = webdriver.Chrome('chromedriver',chrome_options=chrome_options)\n",
        "    driver.implicitly_wait(5) # or bigger second\n",
        "    \n",
        "    # 열고자 하는 채널 -> 동영상 목록으로 된 url 페이지를 엶\n",
        "    driver.get(url)\n",
        "    image_list = list() # 썸네일을 받을 수 있는 주소 저장용 리스트\n",
        "    title_list = list() # 썸네일 제목을 저장하는 리스트\n",
        "    view_list = list() # 조회수를 저장하는 리스트\n",
        "    url_list = list() # url을 저장하는 리스트\n",
        "    intro_list = list()\n",
        "\n",
        "    idx = 1\n",
        "    while True:\n",
        "\n",
        "        try:\n",
        "            img_xpath = '/html/body/ytd-app/div/ytd-page-manager/ytd-browse/ytd-two-column-browse-results-renderer/div[1]/ytd-section-list-renderer/div[2]/ytd-item-section-renderer/div[3]/ytd-grid-renderer/div[1]/ytd-grid-video-renderer['+str(idx)+']/div[1]/ytd-thumbnail/a/yt-img-shadow/img'\n",
        "            title_xpath = '/html/body/ytd-app/div/ytd-page-manager/ytd-browse/ytd-two-column-browse-results-renderer/div[1]/ytd-section-list-renderer/div[2]/ytd-item-section-renderer/div[3]/ytd-grid-renderer/div[1]/ytd-grid-video-renderer['+str(idx)+']/div[1]/div[1]/div[1]/h3/a'\n",
        "            viewcnt_xpath = '/html/body/ytd-app/div/ytd-page-manager/ytd-browse/ytd-two-column-browse-results-renderer/div[1]/ytd-section-list-renderer/div[2]/ytd-item-section-renderer/div[3]/ytd-grid-renderer/div[1]/ytd-grid-video-renderer['+str(idx)+']/div[1]/div[1]/div[1]/div[1]/div[1]/div[2]/span[1]'\n",
        "            \n",
        "            # 이미지가 곧바로 로드 되지 않을 때, 20초간 강제로 기다림\n",
        "            img = WebDriverWait(driver, 20).until(EC.presence_of_all_elements_located((By.XPATH, img_xpath)))\n",
        "            if img is None:\n",
        "                print(idx, 'img is not loaded.')\n",
        "            \n",
        "            # 한 페이지에 약 8개 불러오는 데, 동영상 목록을 추가 불러오기 위해 스크롤 내림\n",
        "            if idx % 8 == 0 :\n",
        "                driver.execute_script('window.scrollBy(0, 1080);')\n",
        "                time.sleep(2)\n",
        "                driver.execute_script('window.scrollBy(0, 1080);')\n",
        "                time.sleep(2)\n",
        "                driver.execute_script('window.scrollBy(0, 1080);')\n",
        "                time.sleep(2)\n",
        "            \n",
        "            # 썸네일 주소를 리스트에 저장\n",
        "            image = driver.find_element_by_xpath(img_xpath)\n",
        "            img_url = image.get_attribute('src')\n",
        "            image_list.append(img_url)\n",
        "\n",
        "            # 타이틀을 리스트에 저장\n",
        "            title = driver.find_element_by_xpath(title_xpath)\n",
        "            title_list.append(title.text)\n",
        "\n",
        "            # 조회수를 리스트에 저장\n",
        "            view = driver.find_element_by_xpath(viewcnt_xpath)\n",
        "            view_list.append(view.text)\n",
        "            \n",
        "            if idx == 100:\n",
        "              break\n",
        "            \n",
        "            idx += 1\n",
        "\n",
        "        except Exception as e:\n",
        "            print()\n",
        "            print(e)\n",
        "            break\n",
        "\n",
        "    #링크 크롤링\n",
        "    page = driver.page_source\n",
        "    soup = bs(page,'lxml')\n",
        "    links = soup.find_all(\"div\",id=\"dismissible\")\n",
        "    for link in links:\n",
        "        url_list.append('https://www.youtube.com'+link.a['href'])\n",
        "        if len(url_list) == 100:\n",
        "          break\n",
        "\n",
        "    # 설명 크롤링\n",
        "    for link in url_list:\n",
        "        driver.get(link)        \n",
        "        time.sleep(5)\n",
        "        page = driver.page_source\n",
        "        soup = bs(page,'lxml')\n",
        "        find = soup.find(\"span\",class_=\"style-scope yt-formatted-string\") \n",
        "        # find 객체가 None인 경우도 있기 때문에 이런 경우는 무시-> 설명을 None으로 대체\n",
        "        if find == None:\n",
        "            intro_list.append(\"None\")\n",
        "            continue\n",
        "\n",
        "        spann = find.get_text()\n",
        "        intro_list.append(spann)\n",
        "    \n",
        "    assert len(image_list) == len(title_list) == len(view_list) == len(url_list) == len(intro_list)\n",
        "    driver.close()\n",
        "    print('finish!')\n",
        "    return image_list, title_list, view_list, url_list, intro_list"
      ],
      "metadata": {
        "id": "3yz92LNKACUZ"
      },
      "execution_count": 68,
      "outputs": []
    },
    {
      "cell_type": "code",
      "source": [
        "full_image_list = list()\n",
        "full_title_list = list()\n",
        "full_view_list = list()\n",
        "full_url_list = list()\n",
        "full_intro_list = list()\n",
        "\n",
        "for youtuber, url in it_과학기술.items():\n",
        "  image_list, title_list, view_list, url_list, intro_list = crawling_function(url)"
      ],
      "metadata": {
        "colab": {
          "base_uri": "https://localhost:8080/"
        },
        "id": "JkKcdT5NRYHG",
        "outputId": "29c49be4-788a-4f6e-aa9f-dd1730e652f0"
      },
      "execution_count": 74,
      "outputs": [
        {
          "output_type": "execute_result",
          "data": {
            "text/plain": [
              "dict_items([('ZHC', 'https://www.youtube.com/c/ZHcomicart/videos'), ('Mark Rober', 'https://www.youtube.com/c/MarkRober/videos'), ('Apple', 'https://www.youtube.com/user/Apple/videos'), ('Marques Brownlee', 'https://www.youtube.com/c/mkbhd/videos'), ('Veritasium', 'https://www.youtube.com/c/veritasium/videos'), ('CrazyRussianHacker', 'https://www.youtube.com/user/CrazyRussianHacker/videos'), ('SmarterEveryDay', 'https://www.youtube.com/c/smartereveryday/videos'), ('WIRED', 'https://www.youtube.com/channel/UCftwRNsjfRo08xYE31tkiyw'), ('EverythingApplePro E A P', 'https://www.youtube.com/c/EverythingApplePro/videos'), ('#Mind Warehouse', 'https://www.youtube.com/channel/UCYenDLnIHsoqQ6smwKXQ7Hg/videos'), ('JerryRigEverything', 'https://www.youtube.com/c/JerryRigEverything/videos'), ('iJustine', 'https://www.youtube.com/c/iJustine/videos'), ('hickok45', 'https://www.youtube.com/user/hickok45/videos'), ('freeCodeCamp.org', 'https://www.youtube.com/c/Freecodecamp/videos'), ('Austin Evans', 'https://www.youtube.com/c/austinevans/videos'), ('TheBackyardScientist', 'https://www.youtube.com/c/TheBackyardScientist/videos'), ('Seeker', 'https://www.youtube.com/c/Seeker/videos'), ('Ridddle', 'https://www.youtube.com/c/VineMontanaTV/videos'), ('Be Smart', 'https://www.youtube.com/c/itsokaytobesmart/videos'), ('The Organic Chemistry Tutor', 'https://www.youtube.com/c/TheOrganicChemistryTutor/videos')])"
            ]
          },
          "metadata": {},
          "execution_count": 74
        }
      ]
    },
    {
      "cell_type": "code",
      "source": [
        ""
      ],
      "metadata": {
        "id": "KkIoPBixXxx3"
      },
      "execution_count": null,
      "outputs": []
    }
  ]
}