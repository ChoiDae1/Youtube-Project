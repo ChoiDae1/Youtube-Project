{
  "nbformat": 4,
  "nbformat_minor": 0,
  "metadata": {
    "colab": {
      "name": "유튜브 크롤링",
      "provenance": [],
      "authorship_tag": "ABX9TyPtQEfYwcetYsZ/RR7bhJSO",
      "include_colab_link": true
    },
    "kernelspec": {
      "name": "python3",
      "display_name": "Python 3"
    },
    "language_info": {
      "name": "python"
    }
  },
  "cells": [
    {
      "cell_type": "markdown",
      "metadata": {
        "id": "view-in-github",
        "colab_type": "text"
      },
      "source": [
        "<a href=\"https://colab.research.google.com/github/ChoiDae1/Youtube_Project/blob/main/%EC%9C%A0%ED%8A%9C%EB%B8%8C_%ED%81%AC%EB%A1%A4%EB%A7%81.ipynb\" target=\"_parent\"><img src=\"https://colab.research.google.com/assets/colab-badge.svg\" alt=\"Open In Colab\"/></a>"
      ]
    },
    {
      "cell_type": "code",
      "source": [
        "from google.colab import drive\n",
        "drive.mount('/content/drive')"
      ],
      "metadata": {
        "colab": {
          "base_uri": "https://localhost:8080/"
        },
        "id": "jaKPU8V_-lV8",
        "outputId": "819f48e4-2d00-40d4-a1d4-e32412cb117b"
      },
      "execution_count": 11,
      "outputs": [
        {
          "output_type": "stream",
          "name": "stdout",
          "text": [
            "Mounted at /content/drive\n"
          ]
        }
      ]
    },
    {
      "cell_type": "code",
      "source": [
        "!pip install selenium"
      ],
      "metadata": {
        "id": "dOmg0DbR9HQL"
      },
      "execution_count": null,
      "outputs": []
    },
    {
      "cell_type": "code",
      "source": [
        "!apt-get update\n",
        "!apt install chromium-chromedriver"
      ],
      "metadata": {
        "id": "ZRTTHj3A_Nma"
      },
      "execution_count": null,
      "outputs": []
    },
    {
      "cell_type": "code",
      "source": [
        "import time\n",
        "\n",
        "from selenium import webdriver\n",
        "from selenium.webdriver.common.by import By\n",
        "from selenium.webdriver.support.ui import WebDriverWait\n",
        "from selenium.webdriver.support import expected_conditions as EC"
      ],
      "metadata": {
        "id": "9j-tTA7DAiRx"
      },
      "execution_count": 12,
      "outputs": []
    },
    {
      "cell_type": "code",
      "source": [
        "from selenium import webdriver\n",
        "from urllib.request import urlopen\n",
        "from bs4 import BeautifulSoup as bs\n",
        "from selenium import webdriver \n",
        "from selenium.webdriver.common.keys import Keys\n",
        "from selenium.webdriver.chrome.options import Options\n",
        "import time\n",
        "import sys\n",
        "import requests\n",
        "import pandas as pd"
      ],
      "metadata": {
        "id": "ZcXczPMfHgB3"
      },
      "execution_count": 13,
      "outputs": []
    },
    {
      "cell_type": "code",
      "source": [
        "it_과학기술 = {\n",
        "    'ZHC': 'https://www.youtube.com/c/ZHcomicart/videos',\n",
        "    'Mark Rober': 'https://www.youtube.com/c/MarkRober/videos',\n",
        "    'Apple': 'https://www.youtube.com/user/Apple/videos',\n",
        "    'Marques Brownlee': 'https://www.youtube.com/c/mkbhd/videos',\n",
        "    'Veritasium': 'https://www.youtube.com/c/veritasium/videos',\n",
        "    'CrazyRussianHacker': 'https://www.youtube.com/user/CrazyRussianHacker/videos',\n",
        "    'SmarterEveryDay': 'https://www.youtube.com/c/smartereveryday/videos',\n",
        "    'WIRED': 'https://www.youtube.com/c/WIRED/videos',\n",
        "    'EverythingApplePro E A P': 'https://www.youtube.com/c/EverythingApplePro/videos',\n",
        "    '#Mind Warehouse': 'https://www.youtube.com/channel/UCYenDLnIHsoqQ6smwKXQ7Hg/videos',\n",
        "    'JerryRigEverything': 'https://www.youtube.com/c/JerryRigEverything/videos',\n",
        "    'iJustine': 'https://www.youtube.com/c/iJustine/videos',\n",
        "    'hickok45': 'https://www.youtube.com/user/hickok45/videos',\n",
        "    'freeCodeCamp.org': 'https://www.youtube.com/c/Freecodecamp/videos',\n",
        "    'Austin Evans': 'https://www.youtube.com/c/austinevans/videos',\n",
        "    'TheBackyardScientist': 'https://www.youtube.com/c/TheBackyardScientist/videos',\n",
        "    'Seeker': 'https://www.youtube.com/c/Seeker/videos',\n",
        "    'Ridddle': 'https://www.youtube.com/c/VineMontanaTV/videos',\n",
        "    'Be Smart': 'https://www.youtube.com/c/itsokaytobesmart/videos',\n",
        "    'The Organic Chemistry Tutor': 'https://www.youtube.com/c/TheOrganicChemistryTutor/videos'\n",
        "              }\n",
        "          "
      ],
      "metadata": {
        "id": "HdMY4hmhPdRg"
      },
      "execution_count": 14,
      "outputs": []
    },
    {
      "cell_type": "code",
      "source": [
        "영화_애니 = {\n",
        "    'Movieclips': 'https://www.youtube.com/c/MOVIECLIPS/videos',\n",
        "    'TheEllenShow': 'https://www.youtube.com/c/TheEllenShow/videos',\n",
        "    'Masha and The Bear': 'https://www.youtube.com/c/MashaBearEN/videos',\n",
        "    'Netflix': 'https://www.youtube.com/c/Netflix/videos',\n",
        "    'WB Kids': 'https://www.youtube.com/c/wbkids/videos',\n",
        "    'REACT': 'https://www.youtube.com/finebros/videos',\n",
        "    'Pencilmation': 'https://www.youtube.com/pencilmation/videos',\n",
        "    'Alan Becker': 'https://www.youtube.com/c/noogai89/videos',\n",
        "    'Marvel Entertainment': 'https://www.youtube.com/c/marvel/videos',\n",
        "    'PDK Films': 'https://www.youtube.com/c/PDKFilms/videos',\n",
        "    'Movieclips Trailers': 'https://www.youtube.com/c/MovieclipsTRAILERS/videos',\n",
        "    'LEGO': 'https://www.youtube.com/c/LEGO/videos',\n",
        "    'Annoying Orange': 'https://www.youtube.com/c/AnnoyingOrange/videos',\n",
        "    'Chotoonz TV - Funny Cartoons for Kids': 'https://www.youtube.com/c/ChotoonzTV/videos',\n",
        "    'Jaiden Animations': 'https://www.youtube.com/c/jaiden/videos',\n",
        "    'WiederDude': 'https://www.youtube.com/channel/UCpDNnvxEf3iWuJbtmUk6DnA/videos',\n",
        "    'Comedy Central': 'https://www.youtube.com/c/ComedyCentral/videos',\n",
        "    'The Film Theorists': 'https://www.youtube.com/c/FilmTheorists/videos',\n",
        "    'Warner Bros. Pictures': 'https://www.youtube.com/wbpictures/videos',\n",
        "} # 마지막 하나는 홈페이지 자체에 접근할 수 없어서 제외"
      ],
      "metadata": {
        "id": "N1b8Xeoxa8b5"
      },
      "execution_count": 15,
      "outputs": []
    },
    {
      "cell_type": "code",
      "source": [
        "자동차 = {\n",
        "    'Its Mamix': 'https://www.youtube.com/c/ItsMamix/videos',\n",
        "    'The Q': 'https://www.youtube.com/c/TheQ_original/videos',\n",
        "    'Tanner Fox': 'https://www.youtube.com/c/TannerFox/videos',\n",
        "    'Life Hacks & Experiments': 'https://www.youtube.com/user/SerbianGamesBL2/videos',\n",
        "    'ChrisFix': 'https://www.youtube.com/c/chrisfix/videos',\n",
        "    'DenLion TV': 'https://www.youtube.com/c/DenLionTV/videos',\n",
        "    'MotorTrend Channel': 'https://www.youtube.com/c/MotorTrendWatch/videos',\n",
        "    'Donut Media': 'https://www.youtube.com/c/DonutMediaTV/videos',\n",
        "    'Creative Channel': 'https://www.youtube.com/c/ChannelCreativeVN/videos',\n",
        "    'Scotty Kilmer': 'https://www.youtube.com/c/ScottyKilmermechanic/videos',\n",
        "    'Hoonigan': 'https://www.youtube.com/c/TheHoonigans/videos',\n",
        "    'Salomundo': 'https://www.youtube.com/c/Salomundo/videos',\n",
        "    'Edwin Sarkissian': 'https://www.youtube.com/c/EdwinSarkissian/videos',\n",
        "    'TheStradman': 'https://www.youtube.com/c/TheStradman/videos',\n",
        "    'KuDo Review': 'https://www.youtube.com/c/KuDoToysReview/videos',\n",
        "    'Adam LZ': 'https://www.youtube.com/c/AdamLZ/videos',\n",
        "    'Jay Lenos Garage': 'https://www.youtube.com/c/jaylenosgarage/videos',\n",
        "    '1320video': 'https://www.youtube.com/user/1320video/videos',\n",
        "    'Engineering Explained': 'https://www.youtube.com/user/EngineeringExplained/videos',\n",
        "    'RE4LG4LIFE OFICIAL': 'https://www.youtube.com/c/RE4LG4LIFEOFICIAL/videos'\n",
        "}"
      ],
      "metadata": {
        "id": "AO4TWqLFa88J"
      },
      "execution_count": 16,
      "outputs": []
    },
    {
      "cell_type": "code",
      "source": [
        "# 유튜버 한명 url(/videos로 끝남) 하나 받으면 최신순으로 영상 100개에 대한 크롤링 반환하는 함수 \n",
        "def crawling_function(url):\n",
        "    # 웹 드라이버 초기화\n",
        "    chrome_options = webdriver.ChromeOptions()\n",
        "    chrome_options.add_argument('--headless') #내부 창을 띄울 수 없으므로 설정\n",
        "    chrome_options.add_argument('--no-sandbox')\n",
        "    chrome_options.add_argument('--disable-dev-shm-usage')\n",
        "    driver = webdriver.Chrome('chromedriver',options=chrome_options)\n",
        "    driver.implicitly_wait(5) # or bigger second\n",
        "    \n",
        "    # 열고자 하는 채널 -> 동영상 목록으로 된 url 페이지를 엶\n",
        "    driver.get(url)\n",
        "    image_list = list() # 썸네일을 받을 수 있는 주소 저장용 리스트\n",
        "    title_list = list() # 썸네일 제목을 저장하는 리스트\n",
        "    view_list = list() # 조회수를 저장하는 리스트\n",
        "    url_list = list() # url을 저장하는 리스트\n",
        "    intro_list = list()\n",
        "\n",
        "    idx = 1\n",
        "    while True:\n",
        "\n",
        "        try:\n",
        "            img_xpath = '/html/body/ytd-app/div/ytd-page-manager/ytd-browse/ytd-two-column-browse-results-renderer/div[1]/ytd-section-list-renderer/div[2]/ytd-item-section-renderer/div[3]/ytd-grid-renderer/div[1]/ytd-grid-video-renderer['+str(idx)+']/div[1]/ytd-thumbnail/a/yt-img-shadow/img'\n",
        "            title_xpath = '/html/body/ytd-app/div/ytd-page-manager/ytd-browse/ytd-two-column-browse-results-renderer/div[1]/ytd-section-list-renderer/div[2]/ytd-item-section-renderer/div[3]/ytd-grid-renderer/div[1]/ytd-grid-video-renderer['+str(idx)+']/div[1]/div[1]/div[1]/h3/a'\n",
        "            viewcnt_xpath = '/html/body/ytd-app/div/ytd-page-manager/ytd-browse/ytd-two-column-browse-results-renderer/div[1]/ytd-section-list-renderer/div[2]/ytd-item-section-renderer/div[3]/ytd-grid-renderer/div[1]/ytd-grid-video-renderer['+str(idx)+']/div[1]/div[1]/div[1]/div[1]/div[1]/div[2]/span[1]'\n",
        "            \n",
        "            # 이미지가 곧바로 로드 되지 않을 때, 20초간 강제로 기다림\n",
        "            img = WebDriverWait(driver, 20).until(EC.presence_of_all_elements_located((By.XPATH, img_xpath)))\n",
        "            if img is None:\n",
        "                print(idx, 'img is not loaded.')\n",
        "            \n",
        "            # 한 페이지에 약 8개 불러오는 데, 동영상 목록을 추가 불러오기 위해 스크롤 내림\n",
        "            if idx % 8 == 0 :\n",
        "                driver.execute_script('window.scrollBy(0, 1080);')\n",
        "                time.sleep(2)\n",
        "                driver.execute_script('window.scrollBy(0, 1080);')\n",
        "                time.sleep(2)\n",
        "                driver.execute_script('window.scrollBy(0, 1080);')\n",
        "                time.sleep(2)\n",
        "            \n",
        "            # 썸네일 주소\n",
        "            image = driver.find_element_by_xpath(img_xpath)\n",
        "            img_url = image.get_attribute('src')\n",
        "  \n",
        "            # 타이틀\n",
        "            title = driver.find_element_by_xpath(title_xpath)\n",
        "            title = title.text\n",
        "\n",
        "            # 조회수\n",
        "            view = driver.find_element_by_xpath(viewcnt_xpath)\n",
        "            view = view.text\n",
        "            \n",
        "            # 한꺼번에 저장(셋 중에 하나라도 오류날 수 있으므로)\n",
        "            image_list.append(img_url)\n",
        "            title_list.append(title)\n",
        "            view_list.append(view)\n",
        "\n",
        "            if idx == 100:\n",
        "              break\n",
        "            \n",
        "            idx += 1\n",
        "\n",
        "        except Exception as e:\n",
        "            print()\n",
        "            print(e)\n",
        "            break\n",
        "    print(\"finish\")\n",
        "    #링크 크롤링\n",
        "    page = driver.page_source\n",
        "    soup = bs(page,'lxml')\n",
        "    links = soup.find_all(\"div\",id=\"dismissible\")\n",
        "    for link in links:\n",
        "        url_list.append('https://www.youtube.com'+link.a['href'])\n",
        "        if len(url_list) == 100:\n",
        "          break\n",
        "\n",
        "    # 설명 크롤링\n",
        "    for link in url_list:\n",
        "        driver.get(link)        \n",
        "        time.sleep(5)\n",
        "        page = driver.page_source\n",
        "        soup = bs(page,'lxml')\n",
        "        find = soup.find(\"span\",class_=\"style-scope yt-formatted-string\") \n",
        "        # find 객체가 None인 경우도 있기 때문에 이런 경우는 무시-> 설명을 None으로 대체\n",
        "        if find == None:\n",
        "            intro_list.append(\"None\")\n",
        "            continue\n",
        "\n",
        "        spann = find.get_text()\n",
        "        intro_list.append(spann)\n",
        "    \n",
        "    assert len(image_list) == len(title_list) == len(view_list) == len(url_list) == len(intro_list)\n",
        "    driver.close()\n",
        "    print('finish!')\n",
        "    return image_list, title_list, view_list, url_list, intro_list"
      ],
      "metadata": {
        "id": "3yz92LNKACUZ"
      },
      "execution_count": 21,
      "outputs": []
    },
    {
      "cell_type": "code",
      "source": [
        "image_list, title_list, view_list, url_list, intro_list = crawling_function('https://www.youtube.com/c/WIRED/videos')"
      ],
      "metadata": {
        "colab": {
          "base_uri": "https://localhost:8080/"
        },
        "id": "305rGJOL5beV",
        "outputId": "a58952ac-386e-4dc2-ebbe-e1c032d1ddf9"
      },
      "execution_count": null,
      "outputs": [
        {
          "output_type": "stream",
          "name": "stderr",
          "text": [
            "/usr/local/lib/python3.7/dist-packages/ipykernel_launcher.py:42: DeprecationWarning: find_element_by_xpath is deprecated. Please use find_element(by=By.XPATH, value=xpath) instead\n",
            "/usr/local/lib/python3.7/dist-packages/ipykernel_launcher.py:46: DeprecationWarning: find_element_by_xpath is deprecated. Please use find_element(by=By.XPATH, value=xpath) instead\n",
            "/usr/local/lib/python3.7/dist-packages/ipykernel_launcher.py:50: DeprecationWarning: find_element_by_xpath is deprecated. Please use find_element(by=By.XPATH, value=xpath) instead\n"
          ]
        }
      ]
    },
    {
      "cell_type": "code",
      "source": [
        "full_image_list1 = list()\n",
        "full_title_list1 = list()\n",
        "full_view_list1 = list()\n",
        "full_url_list1 = list()\n",
        "full_intro_list1 = list()\n",
        "\n",
        "for youtuber, url in it_과학기술.items():\n",
        "  image_list, title_list, view_list, url_list, intro_list = crawling_function(url)\n",
        "  full_image_list1 += image_list\n",
        "  full_title_list1 += title_list\n",
        "  full_view_list1 += view_list\n",
        "  full_url_list1 += url_list\n",
        "  full_intro_list1 += intro_list"
      ],
      "metadata": {
        "id": "JkKcdT5NRYHG"
      },
      "execution_count": null,
      "outputs": []
    },
    {
      "cell_type": "code",
      "source": [
        "full_image_list2 = list()\n",
        "full_title_list2 = list()\n",
        "full_view_list2 = list()\n",
        "full_url_list2 = list()\n",
        "full_intro_list2 = list()\n",
        "\n",
        "for youtuber, url in 영화_애니.items():\n",
        "  image_list, title_list, view_list, url_list, intro_list = crawling_function(url)\n",
        "  full_image_list2 += image_list\n",
        "  full_title_list2 += title_list\n",
        "  full_view_list2 += view_list\n",
        "  full_url_list2 += url_list\n",
        "  full_intro_list2 += intro_list"
      ],
      "metadata": {
        "id": "4YtPtx9Ngaeq"
      },
      "execution_count": null,
      "outputs": []
    },
    {
      "cell_type": "code",
      "source": [
        "full_image_list3 = list()\n",
        "full_title_list3 = list()\n",
        "full_view_list3 = list()\n",
        "full_url_list3 = list()\n",
        "full_intro_list3 = list()\n",
        "\n",
        "for youtuber, url in 자동차.items():\n",
        "  image_list, title_list, view_list, url_list, intro_list = crawling_function(url)\n",
        "  full_image_list3 += image_list\n",
        "  full_title_list3 += title_list\n",
        "  full_view_list3 += view_list\n",
        "  full_url_list3 += url_list\n",
        "  full_intro_list3 += intro_list"
      ],
      "metadata": {
        "id": "jU-_L-B4gmD4"
      },
      "execution_count": null,
      "outputs": []
    },
    {
      "cell_type": "code",
      "source": [
        "last_image_list = full_image_list1 + full_image_list2 + full_image_list3\n",
        "last_title_list = full_title_list1 + full_title_list2 + full_title_list3\n",
        "last_view_list = full_view_list1 + full_view_list2 + full_view_list3\n",
        "last_url_list = full_url_list1 + full_url_list2 + full_url_list3\n",
        "last_into_list = full_intro_list1 + full_intro_list2 + full_intro_list3"
      ],
      "metadata": {
        "id": "hW6ZKVIL78PF"
      },
      "execution_count": null,
      "outputs": []
    },
    {
      "cell_type": "code",
      "source": [
        "import pandas as pd\n",
        "\n",
        "final_crawling = pd.DaraFrame({\n",
        "    'image': last_image_list,\n",
        "    'title': last_title_list,\n",
        "    'view': last_view_list,\n",
        "    'url': last_url_list,\n",
        "    'intro': last_into_list\n",
        "})\n",
        "final_crawling.to_csv('/content/drive/MyDrive/유튜브 썸네일 크롤링/crawling_data.csv')"
      ],
      "metadata": {
        "id": "wvqll3WX9hdx"
      },
      "execution_count": null,
      "outputs": []
    }
  ]
}