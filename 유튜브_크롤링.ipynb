{
  "nbformat": 4,
  "nbformat_minor": 0,
  "metadata": {
    "colab": {
      "name": "유튜브 크롤링",
      "provenance": [],
      "authorship_tag": "ABX9TyOpH/0oxucwW6IM+fdxJNmg",
      "include_colab_link": true
    },
    "kernelspec": {
      "name": "python3",
      "display_name": "Python 3"
    },
    "language_info": {
      "name": "python"
    }
  },
  "cells": [
    {
      "cell_type": "markdown",
      "metadata": {
        "id": "view-in-github",
        "colab_type": "text"
      },
      "source": [
        "<a href=\"https://colab.research.google.com/github/ChoiDae1/Youtube_Project/blob/main/%EC%9C%A0%ED%8A%9C%EB%B8%8C_%ED%81%AC%EB%A1%A4%EB%A7%81.ipynb\" target=\"_parent\"><img src=\"https://colab.research.google.com/assets/colab-badge.svg\" alt=\"Open In Colab\"/></a>"
      ]
    },
    {
      "cell_type": "code",
      "source": [
        "from google.colab import drive\n",
        "drive.mount('/content/drive')"
      ],
      "metadata": {
        "colab": {
          "base_uri": "https://localhost:8080/"
        },
        "id": "jaKPU8V_-lV8",
        "outputId": "72a8d08d-bc27-45c5-8148-ff15b3ac91eb"
      },
      "execution_count": 2,
      "outputs": [
        {
          "output_type": "stream",
          "name": "stdout",
          "text": [
            "Drive already mounted at /content/drive; to attempt to forcibly remount, call drive.mount(\"/content/drive\", force_remount=True).\n"
          ]
        }
      ]
    },
    {
      "cell_type": "code",
      "source": [
        "!pip install selenium"
      ],
      "metadata": {
        "colab": {
          "base_uri": "https://localhost:8080/"
        },
        "id": "dOmg0DbR9HQL",
        "outputId": "31c3731b-2ce7-44c8-aa98-fa2650971fc1"
      },
      "execution_count": 3,
      "outputs": [
        {
          "output_type": "stream",
          "name": "stdout",
          "text": [
            "Requirement already satisfied: selenium in /usr/local/lib/python3.7/dist-packages (4.1.3)\n",
            "Requirement already satisfied: trio~=0.17 in /usr/local/lib/python3.7/dist-packages (from selenium) (0.20.0)\n",
            "Requirement already satisfied: trio-websocket~=0.9 in /usr/local/lib/python3.7/dist-packages (from selenium) (0.9.2)\n",
            "Requirement already satisfied: urllib3[secure,socks]~=1.26 in /usr/local/lib/python3.7/dist-packages (from selenium) (1.26.9)\n",
            "Requirement already satisfied: async-generator>=1.9 in /usr/local/lib/python3.7/dist-packages (from trio~=0.17->selenium) (1.10)\n",
            "Requirement already satisfied: attrs>=19.2.0 in /usr/local/lib/python3.7/dist-packages (from trio~=0.17->selenium) (21.4.0)\n",
            "Requirement already satisfied: idna in /usr/local/lib/python3.7/dist-packages (from trio~=0.17->selenium) (2.10)\n",
            "Requirement already satisfied: sortedcontainers in /usr/local/lib/python3.7/dist-packages (from trio~=0.17->selenium) (2.4.0)\n",
            "Requirement already satisfied: outcome in /usr/local/lib/python3.7/dist-packages (from trio~=0.17->selenium) (1.1.0)\n",
            "Requirement already satisfied: sniffio in /usr/local/lib/python3.7/dist-packages (from trio~=0.17->selenium) (1.2.0)\n",
            "Requirement already satisfied: wsproto>=0.14 in /usr/local/lib/python3.7/dist-packages (from trio-websocket~=0.9->selenium) (1.1.0)\n",
            "Requirement already satisfied: PySocks!=1.5.7,<2.0,>=1.5.6 in /usr/local/lib/python3.7/dist-packages (from urllib3[secure,socks]~=1.26->selenium) (1.7.1)\n",
            "Requirement already satisfied: pyOpenSSL>=0.14 in /usr/local/lib/python3.7/dist-packages (from urllib3[secure,socks]~=1.26->selenium) (22.0.0)\n",
            "Requirement already satisfied: cryptography>=1.3.4 in /usr/local/lib/python3.7/dist-packages (from urllib3[secure,socks]~=1.26->selenium) (36.0.2)\n",
            "Requirement already satisfied: certifi in /usr/local/lib/python3.7/dist-packages (from urllib3[secure,socks]~=1.26->selenium) (2021.10.8)\n",
            "Requirement already satisfied: cffi>=1.12 in /usr/local/lib/python3.7/dist-packages (from cryptography>=1.3.4->urllib3[secure,socks]~=1.26->selenium) (1.15.0)\n",
            "Requirement already satisfied: pycparser in /usr/local/lib/python3.7/dist-packages (from cffi>=1.12->cryptography>=1.3.4->urllib3[secure,socks]~=1.26->selenium) (2.21)\n",
            "Requirement already satisfied: h11<1,>=0.9.0 in /usr/local/lib/python3.7/dist-packages (from wsproto>=0.14->trio-websocket~=0.9->selenium) (0.13.0)\n",
            "Requirement already satisfied: typing-extensions in /usr/local/lib/python3.7/dist-packages (from h11<1,>=0.9.0->wsproto>=0.14->trio-websocket~=0.9->selenium) (3.10.0.2)\n"
          ]
        }
      ]
    },
    {
      "cell_type": "code",
      "source": [
        "!apt-get update\n",
        "!apt install chromium-chromedriver"
      ],
      "metadata": {
        "colab": {
          "base_uri": "https://localhost:8080/"
        },
        "id": "ZRTTHj3A_Nma",
        "outputId": "f4ef1a69-df7a-40d6-d64a-74d25d30ba6a"
      },
      "execution_count": 4,
      "outputs": [
        {
          "output_type": "stream",
          "name": "stdout",
          "text": [
            "Hit:1 https://cloud.r-project.org/bin/linux/ubuntu bionic-cran40/ InRelease\n",
            "Get:2 http://security.ubuntu.com/ubuntu bionic-security InRelease [88.7 kB]\n",
            "Hit:3 http://ppa.launchpad.net/c2d4u.team/c2d4u4.0+/ubuntu bionic InRelease\n",
            "Hit:4 http://archive.ubuntu.com/ubuntu bionic InRelease\n",
            "Ign:5 https://developer.download.nvidia.com/compute/cuda/repos/ubuntu1804/x86_64  InRelease\n",
            "Hit:6 http://ppa.launchpad.net/cran/libgit2/ubuntu bionic InRelease\n",
            "Ign:7 https://developer.download.nvidia.com/compute/machine-learning/repos/ubuntu1804/x86_64  InRelease\n",
            "Get:8 http://archive.ubuntu.com/ubuntu bionic-updates InRelease [88.7 kB]\n",
            "Hit:9 https://developer.download.nvidia.com/compute/cuda/repos/ubuntu1804/x86_64  Release\n",
            "Hit:10 https://developer.download.nvidia.com/compute/machine-learning/repos/ubuntu1804/x86_64  Release\n",
            "Hit:11 http://ppa.launchpad.net/deadsnakes/ppa/ubuntu bionic InRelease\n",
            "Get:12 http://archive.ubuntu.com/ubuntu bionic-backports InRelease [74.6 kB]\n",
            "Hit:13 http://ppa.launchpad.net/graphics-drivers/ppa/ubuntu bionic InRelease\n",
            "Fetched 252 kB in 3s (84.7 kB/s)\n",
            "Reading package lists... Done\n",
            "Reading package lists... Done\n",
            "Building dependency tree       \n",
            "Reading state information... Done\n",
            "chromium-chromedriver is already the newest version (99.0.4844.51-0ubuntu0.18.04.1).\n",
            "0 upgraded, 0 newly installed, 0 to remove and 63 not upgraded.\n"
          ]
        }
      ]
    },
    {
      "cell_type": "code",
      "source": [
        "import time\n",
        "\n",
        "from selenium import webdriver\n",
        "from selenium.webdriver.common.by import By\n",
        "from selenium.webdriver.support.ui import WebDriverWait\n",
        "from selenium.webdriver.support import expected_conditions as EC"
      ],
      "metadata": {
        "id": "9j-tTA7DAiRx"
      },
      "execution_count": 5,
      "outputs": []
    },
    {
      "cell_type": "code",
      "source": [
        "from selenium import webdriver\n",
        "from urllib.request import urlopen\n",
        "from bs4 import BeautifulSoup as bs\n",
        "from selenium import webdriver \n",
        "from selenium.webdriver.common.keys import Keys\n",
        "from selenium.webdriver.chrome.options import Options\n",
        "import time\n",
        "import sys\n",
        "import requests\n",
        "import pandas as pd"
      ],
      "metadata": {
        "colab": {
          "base_uri": "https://localhost:8080/"
        },
        "id": "ZcXczPMfHgB3",
        "outputId": "82d3c937-2493-4cd1-d5f5-d7e056c3dd0f"
      },
      "execution_count": 6,
      "outputs": [
        {
          "output_type": "stream",
          "name": "stderr",
          "text": [
            "/usr/local/lib/python3.7/dist-packages/requests/__init__.py:91: RequestsDependencyWarning: urllib3 (1.26.9) or chardet (3.0.4) doesn't match a supported version!\n",
            "  RequestsDependencyWarning)\n"
          ]
        }
      ]
    },
    {
      "cell_type": "code",
      "source": [
        "it_과학기술 = {\n",
        "    'ZHC': 'https://www.youtube.com/c/ZHcomicart/videos',\n",
        "    'Mark Rober': 'https://www.youtube.com/c/MarkRober/videos',\n",
        "    'Apple': 'https://www.youtube.com/user/Apple/videos',\n",
        "    'Marques Brownlee': 'https://www.youtube.com/c/mkbhd/videos',\n",
        "    'Veritasium': 'https://www.youtube.com/c/veritasium/videos',\n",
        "    'CrazyRussianHacker': 'https://www.youtube.com/user/CrazyRussianHacker/videos',\n",
        "    'SmarterEveryDay': 'https://www.youtube.com/c/smartereveryday/videos',\n",
        "    'WIRED': 'https://www.youtube.com/c/WIRED/videos',\n",
        "    'EverythingApplePro E A P': 'https://www.youtube.com/c/EverythingApplePro/videos',\n",
        "    '#Mind Warehouse': 'https://www.youtube.com/channel/UCYenDLnIHsoqQ6smwKXQ7Hg/videos',\n",
        "    'JerryRigEverything': 'https://www.youtube.com/c/JerryRigEverything/videos',\n",
        "    'iJustine': 'https://www.youtube.com/c/iJustine/videos',\n",
        "    'hickok45': 'https://www.youtube.com/user/hickok45/videos',\n",
        "    'freeCodeCamp.org': 'https://www.youtube.com/c/Freecodecamp/videos',\n",
        "    'Austin Evans': 'https://www.youtube.com/c/austinevans/videos',\n",
        "    'TheBackyardScientist': 'https://www.youtube.com/c/TheBackyardScientist/videos',\n",
        "    'Seeker': 'https://www.youtube.com/c/Seeker/videos',\n",
        "    'Ridddle': 'https://www.youtube.com/c/VineMontanaTV/videos',\n",
        "    'Be Smart': 'https://www.youtube.com/c/itsokaytobesmart/videos',\n",
        "    'The Organic Chemistry Tutor': 'https://www.youtube.com/c/TheOrganicChemistryTutor/videos'\n",
        "              }\n",
        "          "
      ],
      "metadata": {
        "id": "HdMY4hmhPdRg"
      },
      "execution_count": 7,
      "outputs": []
    },
    {
      "cell_type": "code",
      "source": [
        "영화_애니 = {\n",
        "    'Movieclips': 'https://www.youtube.com/c/MOVIECLIPS/videos',\n",
        "    'TheEllenShow': 'https://www.youtube.com/c/TheEllenShow/videos',\n",
        "    'Masha and The Bear': 'https://www.youtube.com/c/MashaBearEN/videos',\n",
        "    'Netflix': 'https://www.youtube.com/c/Netflix/videos',\n",
        "    'WB Kids': 'https://www.youtube.com/c/wbkids/videos',\n",
        "    'REACT': 'https://www.youtube.com/finebros/videos',\n",
        "    'Pencilmation': 'https://www.youtube.com/pencilmation/videos',\n",
        "    'Alan Becker': 'https://www.youtube.com/c/noogai89/videos',\n",
        "    'Marvel Entertainment': 'https://www.youtube.com/c/marvel/videos',\n",
        "    'PDK Films': 'https://www.youtube.com/c/PDKFilms/videos',\n",
        "    'Movieclips Trailers': 'https://www.youtube.com/c/MovieclipsTRAILERS/videos',\n",
        "    'LEGO': 'https://www.youtube.com/c/LEGO/videos',\n",
        "    'Annoying Orange': 'https://www.youtube.com/c/AnnoyingOrange/videos',\n",
        "    'Chotoonz TV - Funny Cartoons for Kids': 'https://www.youtube.com/c/ChotoonzTV/videos',\n",
        "    'Jaiden Animations': 'https://www.youtube.com/c/jaiden/videos',\n",
        "    'WiederDude': 'https://www.youtube.com/channel/UCpDNnvxEf3iWuJbtmUk6DnA/videos',\n",
        "    'Comedy Central': 'https://www.youtube.com/c/ComedyCentral/videos',\n",
        "    'The Film Theorists': 'https://www.youtube.com/c/FilmTheorists/videos',\n",
        "    'Warner Bros. Pictures': 'https://www.youtube.com/wbpictures/videos',\n",
        "} # 마지막 하나는 홈페이지 자체에 접근할 수 없어서 제외"
      ],
      "metadata": {
        "id": "N1b8Xeoxa8b5"
      },
      "execution_count": 8,
      "outputs": []
    },
    {
      "cell_type": "code",
      "source": [
        "자동차 = {\n",
        "    'Its Mamix': 'https://www.youtube.com/c/ItsMamix/videos',\n",
        "    'The Q': 'https://www.youtube.com/c/TheQ_original/videos',\n",
        "    'Tanner Fox': 'https://www.youtube.com/c/TannerFox/videos',\n",
        "    'Life Hacks & Experiments': 'https://www.youtube.com/user/SerbianGamesBL2/videos',\n",
        "    'ChrisFix': 'https://www.youtube.com/c/chrisfix/videos',\n",
        "    'DenLion TV': 'https://www.youtube.com/c/DenLionTV/videos',\n",
        "    'MotorTrend Channel': 'https://www.youtube.com/c/MotorTrendWatch/videos',\n",
        "    'Donut Media': 'https://www.youtube.com/c/DonutMediaTV/videos',\n",
        "    'Creative Channel': 'https://www.youtube.com/c/ChannelCreativeVN/videos',\n",
        "    'Scotty Kilmer': 'https://www.youtube.com/c/ScottyKilmermechanic/videos',\n",
        "    'Hoonigan': 'https://www.youtube.com/c/TheHoonigans/videos',\n",
        "    'Salomundo': 'https://www.youtube.com/c/Salomundo/videos',\n",
        "    'Edwin Sarkissian': 'https://www.youtube.com/c/EdwinSarkissian/videos',\n",
        "    'TheStradman': 'https://www.youtube.com/c/TheStradman/videos',\n",
        "    'KuDo Review': 'https://www.youtube.com/c/KuDoToysReview/videos',\n",
        "    'Adam LZ': 'https://www.youtube.com/c/AdamLZ/videos',\n",
        "    'Jay Lenos Garage': 'https://www.youtube.com/c/jaylenosgarage/videos',\n",
        "    '1320video': 'https://www.youtube.com/user/1320video/videos',\n",
        "    'Engineering Explained': 'https://www.youtube.com/user/EngineeringExplained/videos',\n",
        "    'RE4LG4LIFE OFICIAL': 'https://www.youtube.com/c/RE4LG4LIFEOFICIAL/videos'\n",
        "}"
      ],
      "metadata": {
        "id": "AO4TWqLFa88J"
      },
      "execution_count": 9,
      "outputs": []
    },
    {
      "cell_type": "code",
      "source": [
        "# 유튜버 한명 url(/videos로 끝남) 하나 받으면 최신순으로 영상 100개에 대한 크롤링 반환하는 함수 \n",
        "def crawling_function(url):\n",
        "    # 웹 드라이버 초기화\n",
        "    chrome_options = webdriver.ChromeOptions()\n",
        "    chrome_options.add_argument('--headless') #내부 창을 띄울 수 없으므로 설정\n",
        "    chrome_options.add_argument('--no-sandbox')\n",
        "    chrome_options.add_argument('--disable-dev-shm-usage')\n",
        "    driver = webdriver.Chrome('chromedriver',options=chrome_options)\n",
        "    driver.implicitly_wait(5) # or bigger second\n",
        "    \n",
        "    # 열고자 하는 채널 -> 동영상 목록으로 된 url 페이지를 엶\n",
        "    driver.get(url)\n",
        "    image_list = list() # 썸네일을 받을 수 있는 주소 저장용 리스트\n",
        "    title_list = list() # 썸네일 제목을 저장하는 리스트\n",
        "    view_list = list() # 조회수를 저장하는 리스트\n",
        "    url_list = list() # url을 저장하는 리스트\n",
        "    intro_list = list()\n",
        "\n",
        "    idx = 0\n",
        "    error_idx = []\n",
        "    while True:\n",
        "        try:\n",
        "            idx += 1\n",
        "            img_xpath = '/html/body/ytd-app/div/ytd-page-manager/ytd-browse/ytd-two-column-browse-results-renderer/div[1]/ytd-section-list-renderer/div[2]/ytd-item-section-renderer/div[3]/ytd-grid-renderer/div[1]/ytd-grid-video-renderer['+str(idx)+']/div[1]/ytd-thumbnail/a/yt-img-shadow/img'\n",
        "            title_xpath = '/html/body/ytd-app/div/ytd-page-manager/ytd-browse/ytd-two-column-browse-results-renderer/div[1]/ytd-section-list-renderer/div[2]/ytd-item-section-renderer/div[3]/ytd-grid-renderer/div[1]/ytd-grid-video-renderer['+str(idx)+']/div[1]/div[1]/div[1]/h3/a'\n",
        "            viewcnt_xpath = '/html/body/ytd-app/div/ytd-page-manager/ytd-browse/ytd-two-column-browse-results-renderer/div[1]/ytd-section-list-renderer/div[2]/ytd-item-section-renderer/div[3]/ytd-grid-renderer/div[1]/ytd-grid-video-renderer['+str(idx)+']/div[1]/div[1]/div[1]/div[1]/div[1]/div[2]/span[1]'\n",
        "            \n",
        "            # 이미지가 곧바로 로드 되지 않을 때, 20초간 강제로 기다림\n",
        "            img = WebDriverWait(driver, 20).until(EC.presence_of_all_elements_located((By.XPATH, img_xpath)))\n",
        "            if img is None:\n",
        "                print(idx, 'img is not loaded.')\n",
        "            \n",
        "            # 한 페이지에 약 8개 불러오는 데, 동영상 목록을 추가 불러오기 위해 스크롤 내림\n",
        "            if idx % 8 == 0 :\n",
        "                driver.execute_script('window.scrollBy(0, 1080);')\n",
        "                time.sleep(2)\n",
        "                driver.execute_script('window.scrollBy(0, 1080);')\n",
        "                time.sleep(2)\n",
        "                driver.execute_script('window.scrollBy(0, 1080);')\n",
        "                time.sleep(2)\n",
        "            \n",
        "            # 썸네일 주소\n",
        "            image = driver.find_element_by_xpath(img_xpath)\n",
        "            img_url = image.get_attribute('src')\n",
        "  \n",
        "            # 타이틀\n",
        "            title = driver.find_element_by_xpath(title_xpath)\n",
        "            title = title.text\n",
        "\n",
        "            # 조회수\n",
        "            view = driver.find_element_by_xpath(viewcnt_xpath)\n",
        "            view = view.text\n",
        "            \n",
        "            # 한꺼번에 저장(셋 중에 하나라도 오류날 수 있으므로)\n",
        "            image_list.append(img_url)\n",
        "            title_list.append(title)\n",
        "            view_list.append(view)\n",
        "            \n",
        "\n",
        "            if len(image_list) == 100:\n",
        "              break\n",
        "\n",
        "        except:\n",
        "            error_idx.append(idx-1) # error가 나는 영상의 index 기억\n",
        "        \n",
        "\n",
        "    #링크 크롤링\n",
        "    page = driver.page_source\n",
        "    soup = bs(page,'lxml')\n",
        "    links = soup.find_all(\"div\",id=\"dismissible\")\n",
        "    for idx, link in enumerate(links):\n",
        "        if idx in error_idx: # error가 나는 영상의 url은 skip\n",
        "          continue\n",
        "        url_list.append('https://www.youtube.com'+link.a['href'])\n",
        "        if len(url_list) == 100:\n",
        "          break\n",
        "\n",
        "    # 설명 크롤링\n",
        "    for link in url_list:\n",
        "        driver.get(link)        \n",
        "        time.sleep(5)\n",
        "        page = driver.page_source\n",
        "        soup = bs(page,'lxml')\n",
        "        find = soup.find(\"span\",class_=\"style-scope yt-formatted-string\") \n",
        "        # find 객체가 None인 경우도 있기 때문에 이런 경우는 무시-> 설명을 None으로 대체\n",
        "        if find == None:\n",
        "            intro_list.append(\"None\")\n",
        "            continue\n",
        "\n",
        "        spann = find.get_text()\n",
        "        intro_list.append(spann)\n",
        "    \n",
        "    assert len(image_list) == len(title_list) == len(view_list) == len(url_list) == len(intro_list)\n",
        "    driver.close()\n",
        "    print('finish!')\n",
        "    return image_list, title_list, view_list, url_list, intro_list"
      ],
      "metadata": {
        "id": "3yz92LNKACUZ"
      },
      "execution_count": 10,
      "outputs": []
    },
    {
      "cell_type": "code",
      "source": [
        "full_image_list1 = list()\n",
        "full_title_list1 = list()\n",
        "full_view_list1 = list()\n",
        "full_url_list1 = list()\n",
        "full_intro_list1 = list()\n",
        "\n",
        "for youtuber, url in it_과학기술.items():\n",
        "  image_list, title_list, view_list, url_list, intro_list = crawling_function(url)\n",
        "  full_image_list1 += image_list\n",
        "  full_title_list1 += title_list\n",
        "  full_view_list1 += view_list\n",
        "  full_url_list1 += url_list\n",
        "  full_intro_list1 += intro_list"
      ],
      "metadata": {
        "colab": {
          "base_uri": "https://localhost:8080/"
        },
        "id": "JkKcdT5NRYHG",
        "outputId": "89e3feec-8017-41c6-9c7c-2fa66e262ad3"
      },
      "execution_count": null,
      "outputs": [
        {
          "output_type": "stream",
          "name": "stderr",
          "text": [
            "/usr/local/lib/python3.7/dist-packages/ipykernel_launcher.py:43: DeprecationWarning: find_element_by_xpath is deprecated. Please use find_element(by=By.XPATH, value=xpath) instead\n",
            "/usr/local/lib/python3.7/dist-packages/ipykernel_launcher.py:47: DeprecationWarning: find_element_by_xpath is deprecated. Please use find_element(by=By.XPATH, value=xpath) instead\n",
            "/usr/local/lib/python3.7/dist-packages/ipykernel_launcher.py:51: DeprecationWarning: find_element_by_xpath is deprecated. Please use find_element(by=By.XPATH, value=xpath) instead\n"
          ]
        }
      ]
    },
    {
      "cell_type": "code",
      "source": [
        "full_image_list2 = list()\n",
        "full_title_list2 = list()\n",
        "full_view_list2 = list()\n",
        "full_url_list2 = list()\n",
        "full_intro_list2 = list()\n",
        "\n",
        "for youtuber, url in 영화_애니.items():\n",
        "  image_list, title_list, view_list, url_list, intro_list = crawling_function(url)\n",
        "  full_image_list2 += image_list\n",
        "  full_title_list2 += title_list\n",
        "  full_view_list2 += view_list\n",
        "  full_url_list2 += url_list\n",
        "  full_intro_list2 += intro_list"
      ],
      "metadata": {
        "id": "4YtPtx9Ngaeq"
      },
      "execution_count": null,
      "outputs": []
    },
    {
      "cell_type": "code",
      "source": [
        "full_image_list3 = list()\n",
        "full_title_list3 = list()\n",
        "full_view_list3 = list()\n",
        "full_url_list3 = list()\n",
        "full_intro_list3 = list()\n",
        "\n",
        "for youtuber, url in 자동차.items():\n",
        "  image_list, title_list, view_list, url_list, intro_list = crawling_function(url)\n",
        "  full_image_list3 += image_list\n",
        "  full_title_list3 += title_list\n",
        "  full_view_list3 += view_list\n",
        "  full_url_list3 += url_list\n",
        "  full_intro_list3 += intro_list"
      ],
      "metadata": {
        "id": "jU-_L-B4gmD4"
      },
      "execution_count": null,
      "outputs": []
    },
    {
      "cell_type": "code",
      "source": [
        "last_image_list = full_image_list1 + full_image_list2 + full_image_list3\n",
        "last_title_list = full_title_list1 + full_title_list2 + full_title_list3\n",
        "last_view_list = full_view_list1 + full_view_list2 + full_view_list3\n",
        "last_url_list = full_url_list1 + full_url_list2 + full_url_list3\n",
        "last_into_list = full_intro_list1 + full_intro_list2 + full_intro_list3"
      ],
      "metadata": {
        "id": "hW6ZKVIL78PF"
      },
      "execution_count": null,
      "outputs": []
    },
    {
      "cell_type": "code",
      "source": [
        "import pandas as pd\n",
        "\n",
        "final_crawling = pd.DaraFrame({\n",
        "    'image': last_image_list,\n",
        "    'title': last_title_list,\n",
        "    'view': last_view_list,\n",
        "    'url': last_url_list,\n",
        "    'intro': last_into_list\n",
        "})\n",
        "final_crawling.to_csv('/content/drive/MyDrive/유튜브 썸네일 크롤링/crawling_data.csv')"
      ],
      "metadata": {
        "id": "wvqll3WX9hdx"
      },
      "execution_count": null,
      "outputs": []
    }
  ]
}